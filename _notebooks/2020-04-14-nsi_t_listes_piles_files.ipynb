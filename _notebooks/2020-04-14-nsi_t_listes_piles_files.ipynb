{
 "cells": [
  {
   "cell_type": "markdown",
   "metadata": {},
   "source": [
    "# Structures de données linéaires \n",
    "\n",
    "> Cours NSI Terminale - Thème 1.\n",
    "\n",
    "- toc: true \n",
    "- badges: true\n",
    "- comments: false\n",
    "- categories: [python, NSI, Terminale, Structure_donnees, TP]\n",
    "- image: images/nsi1.png"
   ]
  },
  {
   "cell_type": "markdown",
   "metadata": {},
   "source": [
    "## Les piles\n",
    "\n",
    "On va commencer ce TP par la manipulation des piles, plus faciles à appréhender, et on terminera par la manuipulation des listes chaînées. Rappelons tout d'abord la notion de **piles** répondant à la règle **LIFO** : dernier entré, premier sorti.\n",
    "\n",
    "![pile](my_icons/pile1.png)\n",
    "\n",
    "### Description de la structure\n",
    "\n",
    "Pour stocker les données dans notre pile, nous utiliserons un tableau python (objet list).\n",
    "Le dernier élément du tableau sera le sommet de la pile. Seul cet élément sera visible.\n",
    "\n",
    "**Exemple** : Si la pile est représentée en mémoire par le tableau `[2, 3, 5, 8]`, le sommet de la pile sera `8`. Si je dépile le 8, la pile deviendra `[2, 3, 5]` et le sommet de la pile sera 5. Une fois tous les éléments dépilés, la pile sera vide et représentée par `[]`.\n"
   ]
  },
  {
   "cell_type": "markdown",
   "metadata": {
    "deletable": false,
    "editable": false,
    "nbgrader": {
     "checksum": "90b68c526694675c2f564119acdd5130",
     "grade": false,
     "grade_id": "cell-8c17c994b0bd5ea3",
     "locked": true,
     "schema_version": 1,
     "solution": false
    }
   },
   "source": [
    "### A vous de jouer\n",
    "\n",
    "Vous allez devoir implémenter les fonctions\n",
    "- `p_valeur(p)`\n",
    "    - prend en paramètre une pile `p`\n",
    "    - renvoie le sommet de la pile ou `None` si la pile est vide\n",
    "- `p_depile(p)`\n",
    "    - prend en paramètre une pile `p`\n",
    "    - dépile le dernier élément saisi\n",
    "    - renvoie la valeur dépilée ou `None` si la pile est vide\n",
    "- `p_empile(p, v)`\n",
    "    - prend en paramètre une pile `p` et une valeur `v`\n",
    "    - empile la valeur `v`\n",
    "    - ne renvoie rien"
   ]
  },
  {
   "cell_type": "code",
   "execution_count": null,
   "metadata": {
    "deletable": false,
    "nbgrader": {
     "checksum": "3bf445fc72d8c4584962de69a32dff12",
     "grade": false,
     "grade_id": "cell-f49fdbbc737964c6",
     "locked": false,
     "schema_version": 1,
     "solution": true
    }
   },
   "outputs": [],
   "source": [
    "def p_valeur(p):\n",
    "    \"\"\"- prend en paramètre une pile p\n",
    "    - renvoie le sommet de la pile\n",
    "    Exemple : \n",
    "    >>> p_valeur([2, 3, 5])\n",
    "    >>> 5\n",
    "    >>> p_valeur([])\n",
    "    >>> None\n",
    "    \"\"\"\n",
    "    # YOUR CODE HERE\n",
    "    raise NotImplementedError()"
   ]
  },
  {
   "cell_type": "code",
   "execution_count": null,
   "metadata": {
    "deletable": false,
    "editable": false,
    "nbgrader": {
     "checksum": "ef37f1abed0487ee12542845cd679786",
     "grade": true,
     "grade_id": "cell-f1f58ee5889bcc38",
     "locked": true,
     "points": 1,
     "schema_version": 1,
     "solution": false
    }
   },
   "outputs": [],
   "source": [
    "assert p_valeur([]) is None\n",
    "assert p_valeur([2, 3, 5]) == 5"
   ]
  },
  {
   "cell_type": "code",
   "execution_count": null,
   "metadata": {
    "deletable": false,
    "nbgrader": {
     "checksum": "ff8f7afc9b18ed9a83586b9c51a4a26a",
     "grade": false,
     "grade_id": "cell-a050d8f552935363",
     "locked": false,
     "schema_version": 1,
     "solution": true
    }
   },
   "outputs": [],
   "source": [
    "def p_depile(p):\n",
    "    \"\"\"- prend en paramètre une pile p\n",
    "    - dépile le dernier élément saisi\n",
    "    - renvoie le sommet de la pile\n",
    "    Exemple : \n",
    "    >>> p_valeur([2, 3, 5])\n",
    "    >>> 5\n",
    "    >>> p_valeur([])\n",
    "    >>> None\n",
    "    \"\"\"\n",
    "    # YOUR CODE HERE\n",
    "    raise NotImplementedError()"
   ]
  },
  {
   "cell_type": "code",
   "execution_count": null,
   "metadata": {
    "deletable": false,
    "editable": false,
    "nbgrader": {
     "checksum": "4a43eaccb88d5629242006b9062841d7",
     "grade": true,
     "grade_id": "cell-9d614672798fb6bb",
     "locked": true,
     "points": 1,
     "schema_version": 1,
     "solution": false
    }
   },
   "outputs": [],
   "source": [
    "p=[2, 3, 5]\n",
    "assert p_depile(p) == 5\n",
    "assert p == [2, 3]\n",
    "assert p_depile([]) is None"
   ]
  },
  {
   "cell_type": "code",
   "execution_count": null,
   "metadata": {
    "deletable": false,
    "nbgrader": {
     "checksum": "85316cb55be36e17a42c1c677aeb2ba6",
     "grade": false,
     "grade_id": "cell-105c0d4b0d91a50f",
     "locked": false,
     "schema_version": 1,
     "solution": true
    }
   },
   "outputs": [],
   "source": [
    "def p_empile(p, v):\n",
    "    \"\"\"- prend en paramètre une pile p et une valeur v\n",
    "    - empile la valeur v\n",
    "    Exemple : \n",
    "    >>> p = [2, 3]\n",
    "    >>> p_empile(p, 5)\n",
    "    >>> p\n",
    "    >>> [2, 3, 5]\n",
    "    \"\"\"\n",
    "    # YOUR CODE HERE\n",
    "    raise NotImplementedError()\n"
   ]
  },
  {
   "cell_type": "code",
   "execution_count": null,
   "metadata": {
    "deletable": false,
    "editable": false,
    "nbgrader": {
     "checksum": "5d58a1208d608f56a8be36ab1907409c",
     "grade": true,
     "grade_id": "cell-b2e4998e26a60320",
     "locked": true,
     "points": 1,
     "schema_version": 1,
     "solution": false
    }
   },
   "outputs": [],
   "source": [
    "p = [2, 3]\n",
    "p_empile(p, 5)\n",
    "assert p == [2, 3, 5]"
   ]
  },
  {
   "cell_type": "markdown",
   "metadata": {},
   "source": [
    "## Les files\n",
    "\n",
    "Rappelons la notion de **files** répondant à la règle **FIFO** : premier entré, premier sorti.\n",
    "\n",
    "![file](my_icons/file1.png)\n",
    "\n",
    "### Description de la structure\n",
    "\n",
    "Pour stocker les données dans notre file, nous utiliserons un tableau python (objet list).\n",
    "- le dernier élément du tableau sera l'avant de la file. Seul cet élément sera visible\n",
    "- le premier élément du tableau sera l'arrière de la file\n",
    "\n",
    "**Exemple** : Si la sile est représentée en mémoire par le tableau `[2, 3, 5, 8]`, l'avant de la file sera `8` et l'arrière de la file sera 2. Si on ajoute 1 à l'arrière de la file, celle-ci contiendra `[1, 2, 3, 5, 8]`. Une fois tous les éléments dépilés, la file sera vide et représentée par `[]`."
   ]
  },
  {
   "cell_type": "markdown",
   "metadata": {
    "deletable": false,
    "editable": false,
    "nbgrader": {
     "checksum": "cac88b09de4df71390a2f66067154dde",
     "grade": false,
     "grade_id": "cell-e504a27404a8488d",
     "locked": true,
     "schema_version": 1,
     "solution": false
    }
   },
   "source": [
    "### A vous de jouer\n",
    "\n",
    "Vous allez devoir implémenter les fonctions\n",
    "- `f_valeur(f)`\n",
    "    - prend en paramètre une file `f`\n",
    "    - renvoie la valeur à l'avant de la file ou `None` si la file est vide\n",
    "- `f_defile(f)`\n",
    "    - prend en paramètre une file `f`\n",
    "    - défile l'élément situé à l'avant de la file\n",
    "    - renvoie la valeur défilée ou `None` si la file est vide\n",
    "- `f_emfile(f, v)`\n",
    "    - prend en paramètre une file `f` et une valeur `v`\n",
    "    - emfile la valeur `v` à l'arrière de la file\n",
    "    - ne renvoie rien"
   ]
  },
  {
   "cell_type": "code",
   "execution_count": null,
   "metadata": {
    "deletable": false,
    "nbgrader": {
     "checksum": "58322eab30937f4098ad2d51c57a1eab",
     "grade": false,
     "grade_id": "cell-f6e4709b5e9adf4d",
     "locked": false,
     "schema_version": 1,
     "solution": true
    }
   },
   "outputs": [],
   "source": [
    "def f_valeur(f):\n",
    "    \"\"\"- prend en paramètre une file f\n",
    "    - renvoie la valeur à l'avant de la file ou None si la file est vide\n",
    "    Exemple : \n",
    "    >>> f_valeur([2, 3, 5])\n",
    "    >>> 5\n",
    "    >>> f_valeur([])\n",
    "    >>> None\n",
    "    \"\"\"\n",
    "    # YOUR CODE HERE\n",
    "    raise NotImplementedError()"
   ]
  },
  {
   "cell_type": "code",
   "execution_count": null,
   "metadata": {
    "deletable": false,
    "editable": false,
    "nbgrader": {
     "checksum": "1d34f74f9bb88a2c992278df31121a35",
     "grade": true,
     "grade_id": "cell-cf2a4fa81751c03d",
     "locked": true,
     "points": 1,
     "schema_version": 1,
     "solution": false
    }
   },
   "outputs": [],
   "source": [
    "assert f_valeur([]) is None\n",
    "assert f_valeur([2, 3, 5]) == 5"
   ]
  },
  {
   "cell_type": "code",
   "execution_count": null,
   "metadata": {
    "deletable": false,
    "nbgrader": {
     "checksum": "aacd909d02a0a18f141d726a73abde37",
     "grade": false,
     "grade_id": "cell-06b9232b2cd93301",
     "locked": false,
     "schema_version": 1,
     "solution": true
    }
   },
   "outputs": [],
   "source": [
    "def f_defile(f):\n",
    "    \"\"\"- prend en paramètre une file f\n",
    "    - défile l'élément situé à l'avant de la file\n",
    "    - renvoie la valeur défilée ou None si la file est vide\n",
    "    Exemple : \n",
    "    >>> f = [2, 3, 5, 8]\n",
    "    >>> f_defile(f)\n",
    "    >>> 8\n",
    "    >>> f\n",
    "    >>> [2, 3, 5]\n",
    "    \"\"\"\n",
    "    # YOUR CODE HERE\n",
    "    raise NotImplementedError()"
   ]
  },
  {
   "cell_type": "code",
   "execution_count": null,
   "metadata": {
    "deletable": false,
    "editable": false,
    "nbgrader": {
     "checksum": "15666ad6c2156d575df1cf094960c9c9",
     "grade": true,
     "grade_id": "cell-b6c2cf3fc29a2b12",
     "locked": true,
     "points": 1,
     "schema_version": 1,
     "solution": false
    }
   },
   "outputs": [],
   "source": [
    "f = [2, 3, 5, 8]\n",
    "assert f_defile(f) == 8\n",
    "assert f == [2, 3, 5]"
   ]
  },
  {
   "cell_type": "code",
   "execution_count": null,
   "metadata": {
    "deletable": false,
    "nbgrader": {
     "checksum": "65b8df244db99049fec6786e696a987b",
     "grade": false,
     "grade_id": "cell-2a71af167d61fa9b",
     "locked": false,
     "schema_version": 1,
     "solution": true
    }
   },
   "outputs": [],
   "source": [
    "def f_enfile(f, v):\n",
    "    \"\"\"- prend en paramètre une file f et une valeur v\n",
    "    - enfile la valeur v à l'arrière de la file\n",
    "    Exemple :\n",
    "    >>> f = [2, 3, 5, 8]\n",
    "    >>> f_enfile(f, 1)\n",
    "    >>> f\n",
    "    >>> [1, 2, 3, 5, 8]\n",
    "    \"\"\"\n",
    "    # YOUR CODE HERE\n",
    "    raise NotImplementedError()"
   ]
  },
  {
   "cell_type": "code",
   "execution_count": null,
   "metadata": {
    "deletable": false,
    "editable": false,
    "nbgrader": {
     "checksum": "09490ed5b35c737f98e21f334a2b13f1",
     "grade": true,
     "grade_id": "cell-1702ab9f5c717d14",
     "locked": true,
     "points": 1,
     "schema_version": 1,
     "solution": false
    }
   },
   "outputs": [],
   "source": [
    "f = [2, 3, 5, 8]\n",
    "f_enfile(f, 1)\n",
    "assert f == [1, 2, 3, 5, 8]"
   ]
  },
  {
   "cell_type": "markdown",
   "metadata": {},
   "source": [
    "## Les listes chaînées\n",
    "\n",
    "### Description de la structure\n",
    "\n",
    "On rappelle que la structure d'une liste chaînée ressemble à ceci :\n",
    "![Liste chainée](my_icons/listechainee.svg)\n",
    "\n",
    "L'illustration montre une liste chaînée composée de 4 maillons. Chaque maillon est composé de 2 champs : une valeur et un pointeur vers le maillon suivant.\n",
    "\n",
    "Pour implémenter une liste chaînée en python nous utiliserons \n",
    "- un tableau à 2 éléments décrivant un maillon\n",
    "    - le premier élément du tableau est la valeur du maillon\n",
    "    - le second élément est l'indice du maillon suivant (ou None pour le dernier élément)\n",
    "- un tableau constitué de la liste de tous les maillons\n",
    "\n",
    "La liste chaînée donnée en illustration pourra donc être représentée ainsi : "
   ]
  },
  {
   "cell_type": "code",
   "execution_count": null,
   "metadata": {
    "deletable": false,
    "editable": false,
    "nbgrader": {
     "checksum": "7316a55f3fa6b2796ea73be7f15879d4",
     "grade": false,
     "grade_id": "cell-59b06373f5229c07",
     "locked": true,
     "schema_version": 1,
     "solution": false
    }
   },
   "outputs": [],
   "source": [
    "maillons = [[3, 2], [8,None], [5, 1], [2,0]]\n",
    "premier = 3"
   ]
  },
  {
   "cell_type": "markdown",
   "metadata": {
    "deletable": false,
    "editable": false,
    "nbgrader": {
     "checksum": "b03b7fac450351db2225f3f79c0cd452",
     "grade": false,
     "grade_id": "cell-9b993418e33b106d",
     "locked": true,
     "schema_version": 1,
     "solution": false
    }
   },
   "source": [
    "Vous constaterez que j'ai *volontairement* inscrit dans le tableau `maillons` les éléments de la liste dans le désordre car il n'y a aucune raison que l'ordre des éléments corresponde à l'ordre dans le tableau `maillons` si par exemple on insère en cours de route des éléments au milieu de la liste. \n",
    "\n",
    "la variable `premier` contient l'indice du premier élément de la liste, c'est donc le maillon `[2,0]` correspondant à la valeur 2. L'élément suivant sera le maillon à l'indice 0 dans le tableau donc `[3,2]` dont la valeur est 3. Ensuite on accède au maillon d'indice 2 donc `[5,1]` de valeur 5 pour terminer par le maillon `[8,None]` de valeur 8 marquant la fin de la liste. Au final la liste est donc bien $$2 - 3 - 5 - 8$$\n",
    "On va supposer dans la suite que la variable `maillons` est **globale** et contiendra tous les maillons de toutes les listes avec lesquelles nous travaillerons. Une liste sera donc définie uniquement par l'**indice de son premier élément** dans le tableau ` maillons`.\n"
   ]
  },
  {
   "cell_type": "markdown",
   "metadata": {
    "deletable": false,
    "editable": false,
    "nbgrader": {
     "checksum": "7496262a54ddd662a85af4f1ccfad84f",
     "grade": false,
     "grade_id": "cell-8c3a0eea209d6b9d",
     "locked": true,
     "schema_version": 1,
     "solution": false
    }
   },
   "source": [
    "### A vous de jouer\n",
    "\n",
    "Vous allez devoir implémenter les fonctions\n",
    "- `l_premier(p)` \n",
    "    - prend en paramètre l'indice du premier élément d'une liste `p`\n",
    "    - renvoye la valeur du premier élément de la liste \n",
    "- `l_valeurs(p)`\n",
    "    - prend en paramètre l'indice du premier élément d'une liste `p`\n",
    "    - renvoye un tableau avec toutes les valeurs de la liste\n",
    "- `l_insere_debut(p, v)`\n",
    "    - prend en paramètre l'indice du premier élément d'une liste `p` et la valeur à insérer `v`\n",
    "    - renvoye l'indice du premier élément de la nouvelle liste où la valeur `v` a été insérée au début\n",
    "- `l_insere_fin(p, v)`\n",
    "    - prend en paramètre l'indice du premier élément d'une liste `p` et la valeur à insérer `v`\n",
    "    - insère à la fin de la liste la valeur `v`\n",
    "    - renvoye `p` car la liste commence par le même élément\n",
    "- `l_nouveau(v)`\n",
    "    - prend en paramètre une valeur `v`\n",
    "    - renvoie l'indice du premier élément de cette liste constituée du seul élément `v`\n",
    "- `l_scinde(p, i)`\n",
    "    - prend en paramètre une liste `p` et in indice `i`\n",
    "    - scinde la liste `p` en deux listes dont la première possède `i` éléments\n",
    "    - renvoie l'indice du premier élément de la seconde sous liste (la première commence toujours à `p`)\n",
    "- `l_concat(p1, p2)`\n",
    "    - prend en paramètre deux listes `p1` et `p2`\n",
    "    - concatène (met bout à bout) les deux listes\n",
    "    - renvoie `p1` : début de la liste concaténée."
   ]
  },
  {
   "cell_type": "code",
   "execution_count": null,
   "metadata": {
    "deletable": false,
    "nbgrader": {
     "checksum": "50806fdb2fac073b4d57fe2d7c0e8aa6",
     "grade": false,
     "grade_id": "cell-a8d1b08c34f8179f",
     "locked": false,
     "schema_version": 1,
     "solution": true
    }
   },
   "outputs": [],
   "source": [
    "def l_premier(p):\n",
    "    \"\"\"- prend en paramètre l'indice du premier élément d'une liste p\n",
    "    - renvoye la valeur du premier élément de la liste\n",
    "    Exemple : maillons = [[3, 2], [8,None], [5, 1], [2,0]]\n",
    "    >>> l_premier(3)\n",
    "    >>> 2\n",
    "    \"\"\"\n",
    "    # YOUR CODE HERE\n",
    "    raise NotImplementedError()"
   ]
  },
  {
   "cell_type": "code",
   "execution_count": null,
   "metadata": {
    "deletable": false,
    "editable": false,
    "nbgrader": {
     "checksum": "4cec238de3bd23f9ebfabfb637cabc42",
     "grade": true,
     "grade_id": "cell-26ffa2c4a4bbeb20",
     "locked": true,
     "points": 1,
     "schema_version": 1,
     "solution": false
    }
   },
   "outputs": [],
   "source": [
    "# Testez votre fonction\n",
    "maillons = [[3, 2], [8,None], [5, 1], [2,0]]\n",
    "assert l_premier(3) == 2"
   ]
  },
  {
   "cell_type": "code",
   "execution_count": null,
   "metadata": {
    "deletable": false,
    "nbgrader": {
     "checksum": "d5d982eba422e7db96e93b5f0358e383",
     "grade": false,
     "grade_id": "cell-0052c26709ee97b8",
     "locked": false,
     "schema_version": 1,
     "solution": true
    }
   },
   "outputs": [],
   "source": [
    "def l_valeurs(p):\n",
    "    \"\"\"\n",
    "    - prend en paramètre l'indice du premier élément d'une liste p\n",
    "    - renvoye un tableau avec toutes les valeurs de la liste\n",
    "    Exemple : maillons = [[3, 2], [8,None], [5, 1], [2,0]]\n",
    "    >>> l_valeurs(3)\n",
    "    >>> [2, 3, 5, 8]\n",
    "    \"\"\"\n",
    "    # YOUR CODE HERE\n",
    "    raise NotImplementedError()\n"
   ]
  },
  {
   "cell_type": "code",
   "execution_count": null,
   "metadata": {
    "deletable": false,
    "editable": false,
    "nbgrader": {
     "checksum": "0ca046dddc482327c3b4a49a4df28b2c",
     "grade": true,
     "grade_id": "cell-5aa1a0d5b36d87b6",
     "locked": true,
     "points": 2,
     "schema_version": 1,
     "solution": false
    }
   },
   "outputs": [],
   "source": [
    "# Testez votre fonction\n",
    "maillons = [[3, 2], [8,None], [5, 1], [2,0]]\n",
    "assert l_valeurs(3) == [2, 3, 5, 8]"
   ]
  },
  {
   "cell_type": "code",
   "execution_count": null,
   "metadata": {
    "deletable": false,
    "nbgrader": {
     "checksum": "0f65d03bc9f2913eb436d96be8cfdcb1",
     "grade": false,
     "grade_id": "cell-6e8b3a6de3d676c1",
     "locked": false,
     "schema_version": 1,
     "solution": true
    }
   },
   "outputs": [],
   "source": [
    "def l_insere_debut(p, v):\n",
    "    \"\"\"-prend en paramètre l'indice du premier élément d'une liste p et la valeur à insérer v\n",
    "    -renvoye l'indice du premier élément de la nouvelle liste où la valeur v a été insérée au début\n",
    "    Exemple : maillons = [[3, 2], [8,None], [5, 1], [2,0]]\n",
    "    >>> p = l_insere_debut(-5)\n",
    "    >>> l_valeurs(p)\n",
    "    >>> [-5, 2, 3, 5, 8]\n",
    "    \"\"\"\n",
    "    # YOUR CODE HERE\n",
    "    raise NotImplementedError()"
   ]
  },
  {
   "cell_type": "code",
   "execution_count": null,
   "metadata": {
    "deletable": false,
    "editable": false,
    "nbgrader": {
     "checksum": "671f8ae1874089acfe55989c3ebccf4f",
     "grade": true,
     "grade_id": "cell-d05136a80f6202b8",
     "locked": true,
     "points": 1,
     "schema_version": 1,
     "solution": false
    }
   },
   "outputs": [],
   "source": [
    "# Testez votre fonction\n",
    "maillons = [[3, 2], [8,None], [5, 1], [2,0]]\n",
    "p = l_insere_debut(3,-5)\n",
    "assert l_valeurs(p) == [-5, 2, 3, 5, 8]"
   ]
  },
  {
   "cell_type": "code",
   "execution_count": null,
   "metadata": {
    "deletable": false,
    "nbgrader": {
     "checksum": "9f4931204ec50f1ac95e4be31198bc29",
     "grade": false,
     "grade_id": "cell-3bd6f23d4f965724",
     "locked": false,
     "schema_version": 1,
     "solution": true
    }
   },
   "outputs": [],
   "source": [
    "def l_insere_fin(p, v):\n",
    "    \"\"\"-prend en paramètre l'indice du premier élément d'une liste p et la valeur à insérer v\n",
    "    - insère à la fin de la liste la valeur v\n",
    "    - renvoye p car la liste commence par le même élément\n",
    "    Exemple : maillons = [[3, 2], [8,None], [5, 1], [2,0]]\n",
    "    >>> p = l_insere_fin(3, 11)\n",
    "    >>> l_valeurs(p)\n",
    "    >>> [2, 3, 5, 8, 11]\n",
    "    \"\"\"\n",
    "    i = p\n",
    "    # YOUR CODE HERE\n",
    "    raise NotImplementedError()"
   ]
  },
  {
   "cell_type": "code",
   "execution_count": null,
   "metadata": {
    "deletable": false,
    "editable": false,
    "nbgrader": {
     "checksum": "5c75f53d54816b9dc8e575ae32d3f615",
     "grade": true,
     "grade_id": "cell-3f7c56d180ae5e55",
     "locked": true,
     "points": 2,
     "schema_version": 1,
     "solution": false
    }
   },
   "outputs": [],
   "source": [
    "# Testez votre fonction\n",
    "maillons = [[3, 2], [8,None], [5, 1], [2,0]]\n",
    "p = l_insere_fin(3, 11)\n",
    "assert l_valeurs(p) == [2, 3, 5, 8, 11]"
   ]
  },
  {
   "cell_type": "code",
   "execution_count": null,
   "metadata": {
    "deletable": false,
    "nbgrader": {
     "checksum": "cbcc9fe56125dabdeabbb05bc78154c4",
     "grade": false,
     "grade_id": "cell-113581ada50840b9",
     "locked": false,
     "schema_version": 1,
     "solution": true
    }
   },
   "outputs": [],
   "source": [
    "def l_nouveau(v):\n",
    "    \"\"\"- prend en paramètre une valeur v\n",
    "    - renvoie l'indice du premier élément de cette liste constituée du seul élément v\n",
    "    Exemple : maillons = [[3, 2], [8,None], [5, 1], [2,0]]\n",
    "    >>> p = l_nouveau(15)\n",
    "    >>> l_valeurs(p)\n",
    "    >>> [ 15 ]\n",
    "    \"\"\"\n",
    "    # YOUR CODE HERE\n",
    "    raise NotImplementedError()"
   ]
  },
  {
   "cell_type": "code",
   "execution_count": null,
   "metadata": {
    "deletable": false,
    "editable": false,
    "nbgrader": {
     "checksum": "d436c670883bebf5b47b49e67f6256db",
     "grade": true,
     "grade_id": "cell-11ad46a872422284",
     "locked": true,
     "points": 1,
     "schema_version": 1,
     "solution": false
    }
   },
   "outputs": [],
   "source": [
    "# Testez votre fonction\n",
    "maillons = [[3, 2], [8,None], [5, 1], [2,0]]\n",
    "p = l_nouveau(15)\n",
    "assert l_valeurs(p) == [ 15 ] "
   ]
  },
  {
   "cell_type": "code",
   "execution_count": null,
   "metadata": {
    "deletable": false,
    "nbgrader": {
     "checksum": "496770c7406d3e84832611bd4b4f13c8",
     "grade": false,
     "grade_id": "cell-70c3e5cb2232ae7f",
     "locked": false,
     "schema_version": 1,
     "solution": true
    }
   },
   "outputs": [],
   "source": [
    "def l_scinde(p, i):\n",
    "    \"\"\"- prend en paramètre une liste p et in indice i\n",
    "    - scinde la liste p en deux listes dont la première possède i éléments\n",
    "    - renvoie l'indice du premier élément de la seconde sous liste (la première commence toujours à p)\n",
    "    Exemple : maillons = [[3, 2], [8,None], [5, 1], [2,0]]\n",
    "    >>> p1 = 3\n",
    "    >>> p2 = l_scinde(p1, 2)\n",
    "    >>> l_valeurs(p1)\n",
    "    >>> [ 2, 3 ]\n",
    "    >>> l_valeurs(p2)\n",
    "    >>> [ 5, 8 ]\n",
    "    \"\"\"\n",
    "    # YOUR CODE HERE\n",
    "    raise NotImplementedError()"
   ]
  },
  {
   "cell_type": "code",
   "execution_count": null,
   "metadata": {
    "deletable": false,
    "editable": false,
    "nbgrader": {
     "checksum": "f86d9ae9e9b8dc0bd4194f56563da6a5",
     "grade": true,
     "grade_id": "cell-8420a311905dc42f",
     "locked": true,
     "points": 2,
     "schema_version": 1,
     "solution": false
    }
   },
   "outputs": [],
   "source": [
    "maillons = [[3, 2], [8,None], [5, 1], [2,0]]\n",
    "p1 = 3\n",
    "p2 = l_scinde(p1, 2)\n",
    "assert l_valeurs(p1) == [2, 3]\n",
    "assert l_valeurs(p2) == [5, 8]\n",
    "p2"
   ]
  },
  {
   "cell_type": "code",
   "execution_count": null,
   "metadata": {
    "deletable": false,
    "nbgrader": {
     "checksum": "cf63203eda337475e4d374eaf8203663",
     "grade": false,
     "grade_id": "cell-64ba676ccd832169",
     "locked": false,
     "schema_version": 1,
     "solution": true
    }
   },
   "outputs": [],
   "source": [
    "def l_concat(p1, p2) :\n",
    "    \"\"\"- prend en paramètre deux listes p1 et p2\n",
    "    - concatène (met bout à bout) les deux listes\n",
    "    - renvoie p1 : début de la liste concaténée.\n",
    "    Exemple : [[3, None], [8, None], [5, 1], [2, 0]]\n",
    "    >>> l_concat(3, 2)\n",
    "    >>> l_valeurs(3)\n",
    "    >>> [ 2, 3, 5, 8]\n",
    "    \"\"\"\n",
    "    # YOUR CODE HERE\n",
    "    raise NotImplementedError()\n"
   ]
  },
  {
   "cell_type": "code",
   "execution_count": null,
   "metadata": {
    "deletable": false,
    "editable": false,
    "nbgrader": {
     "checksum": "0ef8c32ebc789fda84594646ad934f46",
     "grade": true,
     "grade_id": "cell-62fcce8c5a8ad05c",
     "locked": true,
     "points": 2,
     "schema_version": 1,
     "solution": false
    }
   },
   "outputs": [],
   "source": [
    "maillons = [[3, None], [8, None], [5, 1], [2, 0]]\n",
    "assert l_concat(3, 2) == 3\n",
    "assert l_valeurs(3) == [2, 3, 5, 8]"
   ]
  },
  {
   "cell_type": "code",
   "execution_count": null,
   "metadata": {},
   "outputs": [],
   "source": []
  }
 ],
 "metadata": {
  "celltoolbar": "Aucun(e)",
  "kernelspec": {
   "display_name": "Python 3",
   "language": "python",
   "name": "python3"
  },
  "language_info": {
   "codemirror_mode": {
    "name": "ipython",
    "version": 3
   },
   "file_extension": ".py",
   "mimetype": "text/x-python",
   "name": "python",
   "nbconvert_exporter": "python",
   "pygments_lexer": "ipython3",
   "version": "3.8.2"
  }
 },
 "nbformat": 4,
 "nbformat_minor": 2
}
