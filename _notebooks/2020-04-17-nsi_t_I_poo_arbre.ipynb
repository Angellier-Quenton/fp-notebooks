{
 "cells": [
  {
   "cell_type": "markdown",
   "metadata": {},
   "source": [
    "# Implémenter la classe arbre binaire\n",
    "\n",
    "> Cours NSI Terminale - Thème 1.\n",
    "\n",
    "- toc: false \n",
    "- badges: true\n",
    "- comments: false\n",
    "- categories: [python, NSI, Terminale, Structure_donnees, POO, TP]\n",
    "- image: images/nsi1.png"
   ]
  },
  {
   "cell_type": "markdown",
   "metadata": {},
   "source": [
    "Dans ce TP nous allons implémenter une classe permettant de représenter un arbre binaire.\n",
    "\n",
    "Voici le schéma de la structure envisagée pour la classe **Arbrebin**\n",
    "\n",
    "![classe Arbrebin](my_icons/classeArbrebin.png)\n",
    "\n",
    "La propriété **valeur** contiendra la valeur associée au noeud. Les propriétés **gauche** et **droit** seront les sous arbres gauche et droit. Ces deux propriétés seront donc des instances de la classe **Arbrebin**. Si il n'y a pas de sous arbre gauche ou droit, on indiquera la valeur **None** dans les propriétés correspondantes.\n",
    "\n",
    "La méthode **est_feuille** renverra un bouléen selon que l'objet est une feuille ou non.\n",
    "La méthode **cree_fils_gauche()** prend en paramètre une valeur et crée un fils à gauche dont la valeur est passée en paramètres.\n",
    "\n",
    "## Exemple d'utilisation de la classe Arbrebin\n",
    "\n",
    "En supposant la classe **Arbrebin** créée, voici comment on l'utilise pour créer cet arbre :\n",
    "![arbre exemple](my_icons/arbre1.png)\n",
    "\n",
    "```shell\n",
    "arbre = Arbrebin(\"A\")\n",
    "sous_arbre_gauche = arbre.cree_fils_gauche(\"B\")\n",
    "sous_arbre_gauche.cree_fils_gauche(\"D\")\n",
    "arbre.cree_fils_droit(\"C\")\n",
    "\n",
    "# Quelques vérifications possibles\n",
    "print(arbre.est_feuille())\n",
    "print(arbre.droit.est_feuille())\n",
    "print(arbre.gauche.valeur)\n",
    "# Affiche False True B\n",
    "```"
   ]
  },
  {
   "cell_type": "code",
   "execution_count": null,
   "metadata": {
    "deletable": false,
    "nbgrader": {
     "checksum": "a1ffdecb3e3693a22c1a65b1e7402d5c",
     "grade": false,
     "grade_id": "cell-aac985b55a3ec604",
     "locked": false,
     "schema_version": 1,
     "solution": true
    }
   },
   "outputs": [],
   "source": [
    "class Arbrebin():\n",
    "    \n",
    "    # la méthode __repr__ définit ce qui sera affiché\n",
    "    # lorsqu'on tapera l'objet dans Jupyter ou un terminal\n",
    "    # Ici, on affiche juste al valeur du noeud\n",
    "    \n",
    "    def __repr__(self):\n",
    "        return str(self.valeur)\n",
    "    \n",
    "    # Codez ici les méthodes demandées\n",
    "    # YOUR CODE HERE\n",
    "    raise NotImplementedError()"
   ]
  },
  {
   "cell_type": "code",
   "execution_count": null,
   "metadata": {},
   "outputs": [],
   "source": [
    "# Testez ici les méthodes de votre classe\n",
    "a = Arbrebin(2)\n",
    "a"
   ]
  },
  {
   "cell_type": "code",
   "execution_count": null,
   "metadata": {
    "deletable": false,
    "editable": false,
    "nbgrader": {
     "checksum": "9f2ca35a9303365588782f068a00ee74",
     "grade": true,
     "grade_id": "cell-eee2cb758a9af1f2",
     "locked": true,
     "points": 1,
     "schema_version": 1,
     "solution": false
    }
   },
   "outputs": [],
   "source": [
    "# Tester l'exemple de départ\n",
    "\n",
    "arbre = Arbrebin(\"A\")\n",
    "sous_arbre_gauche = arbre.cree_fils_gauche(\"B\")\n",
    "sous_arbre_gauche.cree_fils_gauche(\"D\")\n",
    "arbre.cree_fils_droit(\"C\")\n",
    "\n",
    "assert not arbre.est_feuille()\n",
    "assert arbre.droit.est_feuille()\n",
    "assert arbre.gauche.valeur == \"B\""
   ]
  },
  {
   "cell_type": "markdown",
   "metadata": {},
   "source": [
    "A présent, vous utiliserez la classe Arbrebin et les méthodes que vous avez développées pour représenter l'arbre suivant dans la variable `expr`\n",
    "![expression](my_icons/expr.png)\n",
    "\n",
    "Les opérations seront représentées par des chaînes de caractères. Les feuilles seront des entiers."
   ]
  },
  {
   "cell_type": "code",
   "execution_count": null,
   "metadata": {
    "deletable": false,
    "nbgrader": {
     "checksum": "24c32715e883f84f9cdc0b37563cf8ef",
     "grade": false,
     "grade_id": "cell-506da61b6d6152d2",
     "locked": false,
     "schema_version": 1,
     "solution": true
    }
   },
   "outputs": [],
   "source": [
    "expr = ...\n",
    "# YOUR CODE HERE\n",
    "raise NotImplementedError()"
   ]
  },
  {
   "cell_type": "code",
   "execution_count": null,
   "metadata": {
    "deletable": false,
    "editable": false,
    "nbgrader": {
     "checksum": "76e388b8a45501c71ea5ff68e4493a6f",
     "grade": true,
     "grade_id": "cell-012eb21015157518",
     "locked": true,
     "points": 2,
     "schema_version": 1,
     "solution": false
    }
   },
   "outputs": [],
   "source": [
    "# Validation de la réponse\n",
    "assert expr.valeur == \"+\"\n",
    "assert expr.droit.valeur == 1\n"
   ]
  },
  {
   "cell_type": "code",
   "execution_count": null,
   "metadata": {},
   "outputs": [],
   "source": []
  }
 ],
 "metadata": {
  "celltoolbar": "Éditer les Méta-Données",
  "kernelspec": {
   "display_name": "Python 3",
   "language": "python",
   "name": "python3"
  },
  "language_info": {
   "codemirror_mode": {
    "name": "ipython",
    "version": 3
   },
   "file_extension": ".py",
   "mimetype": "text/x-python",
   "name": "python",
   "nbconvert_exporter": "python",
   "pygments_lexer": "ipython3",
   "version": "3.8.2"
  }
 },
 "nbformat": 4,
 "nbformat_minor": 2
}
