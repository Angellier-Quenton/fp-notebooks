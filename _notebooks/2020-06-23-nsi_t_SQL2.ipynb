{
 "cells": [
  {
   "cell_type": "markdown",
   "metadata": {},
   "source": [
    "# SQL 2/3\n",
    "> Cours NSI Terminale - Thème 2.\n",
    "- toc: true \n",
    "- badges: true\n",
    "- comments: false\n",
    "- categories: [NSI, Terminale, Bases de données, SQL, TP]\n",
    "- image: /images/nsi2.png"
   ]
  },
  {
   "cell_type": "markdown",
   "metadata": {
    "deletable": false,
    "editable": false,
    "nbgrader": {
     "cell_type": "markdown",
     "checksum": "a84662ce47c8a4f7021e406a24ea0a1f",
     "grade": false,
     "grade_id": "cell-1857cc9966e168e6",
     "locked": true,
     "schema_version": 3,
     "solution": false,
     "task": false
    }
   },
   "source": [
    "# Aller plus loin en SQL\n",
    "\n",
    "Dans ce classeur,nous poursuivrons l'étude de l'exemple de la base de données de livres de SF et nous verrons des requêtes de sélection avancées ainsi que la manière de fusionner plusieurs tables (Jointures).\n",
    "\n",
    "Commencez par valider les cellules suivantes afin d'activer la fonctionnalité SQL de Jupyter et de ncharger la base du TP précédent."
   ]
  },
  {
   "cell_type": "code",
   "execution_count": null,
   "metadata": {
    "deletable": false,
    "editable": false,
    "nbgrader": {
     "cell_type": "code",
     "checksum": "c9ea247d5e76475bb29a09415bc67971",
     "grade": false,
     "grade_id": "cell-7cc7fb0371c28068",
     "locked": true,
     "schema_version": 3,
     "solution": false,
     "task": false
    }
   },
   "outputs": [],
   "source": [
    "%load_ext sql\n",
    "\n",
    "%sql sqlite:///livres_db"
   ]
  },
  {
   "cell_type": "markdown",
   "metadata": {
    "deletable": false,
    "editable": false,
    "nbgrader": {
     "cell_type": "markdown",
     "checksum": "e73f464eabc38c01181abb49d522d086",
     "grade": false,
     "grade_id": "cell-90f6649966916f2a",
     "locked": true,
     "schema_version": 3,
     "solution": false,
     "task": false
    }
   },
   "source": [
    "## Aller plus loin avec SELECT\n",
    "\n",
    "### Selection simple\n",
    "\n",
    "Supposons que l'on veuille lister seulement les noms et prénoms des auteurs nés avant 1900, on utilisera une clause **WHERE** *condition* :"
   ]
  },
  {
   "cell_type": "code",
   "execution_count": null,
   "metadata": {
    "deletable": false,
    "editable": false,
    "nbgrader": {
     "cell_type": "code",
     "checksum": "4f06199becbc508c498cf2d3cc2b4184",
     "grade": false,
     "grade_id": "cell-baad24ed27faac4e",
     "locked": true,
     "schema_version": 3,
     "solution": false,
     "task": false
    }
   },
   "outputs": [],
   "source": [
    "%sql SELECT NomAuteur, PrenomAuteur from Auteurs WHERE AnneeNaissance < 1900;"
   ]
  },
  {
   "cell_type": "markdown",
   "metadata": {
    "deletable": false,
    "editable": false,
    "nbgrader": {
     "cell_type": "markdown",
     "checksum": "75b1f63308337f34d396f67bf85b15b4",
     "grade": false,
     "grade_id": "cell-dfb056bff980fc60",
     "locked": true,
     "schema_version": 3,
     "solution": false,
     "task": false
    }
   },
   "source": [
    "Pour obtebir les auteurs prénomés *Jules* :"
   ]
  },
  {
   "cell_type": "code",
   "execution_count": null,
   "metadata": {},
   "outputs": [],
   "source": [
    "%sql SELECT NomAuteur, PrenomAuteur from Auteurs WHERE PrenomAuteur = 'Jules';"
   ]
  },
  {
   "cell_type": "markdown",
   "metadata": {
    "deletable": false,
    "editable": false,
    "nbgrader": {
     "cell_type": "markdown",
     "checksum": "7cf0fb272fcad18b958ea1e0d5160245",
     "grade": false,
     "grade_id": "cell-72372881d6a7509d",
     "locked": true,
     "schema_version": 3,
     "solution": false,
     "task": false
    }
   },
   "source": [
    "Vous voyez que les textes sont délimités par des quotes **'...'**.\n",
    "\n",
    "***Attention*** : essayez de remplacer **Jules** par jules** et vous constaterez que la recherche est sensible aux majuscules.\n",
    "\n",
    "Supposns maintenant que l'on recherche les auteurs dont le prénom commence par **P** : Nous utiliserons une clause LIKE de cette manière :"
   ]
  },
  {
   "cell_type": "code",
   "execution_count": null,
   "metadata": {
    "deletable": false,
    "editable": false,
    "nbgrader": {
     "cell_type": "code",
     "checksum": "2bf8100c18da7cafff69e227b1dce7b7",
     "grade": false,
     "grade_id": "cell-ca58877d3e313227",
     "locked": true,
     "schema_version": 3,
     "solution": false,
     "task": false
    }
   },
   "outputs": [],
   "source": [
    "%sql SELECT NomAuteur, PrenomAuteur from Auteurs WHERE PrenomAuteur LIKE 'P%';"
   ]
  },
  {
   "cell_type": "markdown",
   "metadata": {
    "deletable": false,
    "editable": false,
    "nbgrader": {
     "cell_type": "markdown",
     "checksum": "880d12714f283ae9bdc406d05d43147a",
     "grade": false,
     "grade_id": "cell-28dc4a18f909f5c4",
     "locked": true,
     "schema_version": 3,
     "solution": false,
     "task": false
    }
   },
   "source": [
    "### Sélection multiple\n",
    "Il est possible de croiser plusieurs critères à l'aide d'opérateurs booleens : **AND** et **OR**. Voici la liste des auteurs francais nés après 1900 :"
   ]
  },
  {
   "cell_type": "code",
   "execution_count": null,
   "metadata": {
    "deletable": false,
    "editable": false,
    "nbgrader": {
     "cell_type": "code",
     "checksum": "d097e79b4a92a2dceaf1e259a4539d72",
     "grade": false,
     "grade_id": "cell-f98778845202f5f9",
     "locked": true,
     "schema_version": 3,
     "solution": false,
     "task": false
    }
   },
   "outputs": [],
   "source": [
    "%sql SELECT NomAuteur, PrenomAuteur from Auteurs WHERE IdLangue = 2 AND AnneeNaissance > 1900;"
   ]
  },
  {
   "cell_type": "markdown",
   "metadata": {
    "deletable": false,
    "editable": false,
    "nbgrader": {
     "cell_type": "markdown",
     "checksum": "b48c18d81aad0abfe4c70265075be392",
     "grade": false,
     "grade_id": "cell-136fb261dedbc48b",
     "locked": true,
     "schema_version": 3,
     "solution": false,
     "task": false
    }
   },
   "source": [
    "### Compter le nombre de réponses d'une requête SELECT\n",
    "\n",
    "Combien y a t-il d'auteurs nés entre 1900 et 1915 ?"
   ]
  },
  {
   "cell_type": "code",
   "execution_count": null,
   "metadata": {
    "deletable": false,
    "editable": false,
    "nbgrader": {
     "cell_type": "code",
     "checksum": "ec96d632497efb6242e32324926f6f7c",
     "grade": false,
     "grade_id": "cell-4b492293d286103c",
     "locked": true,
     "schema_version": 3,
     "solution": false,
     "task": false
    }
   },
   "outputs": [],
   "source": [
    "nbr = %sql SELECT COUNT(*) from Auteurs WHERE AnneeNaissance BETWEEN 1900 AND 1915;\n",
    "\n",
    "print(nbr)\n",
    "print(\"récupérer juste le nombre : \", nbr[0][0])"
   ]
  },
  {
   "cell_type": "markdown",
   "metadata": {
    "deletable": false,
    "editable": false,
    "nbgrader": {
     "cell_type": "markdown",
     "checksum": "33fcab606a4e552e12ff564324233b5b",
     "grade": false,
     "grade_id": "cell-7b7bc37d92eac9d1",
     "locked": true,
     "schema_version": 3,
     "solution": false,
     "task": false
    }
   },
   "source": [
    "### Trier les réponses\n",
    "\n",
    "Nous allons lister tous les auteurs par ordre croissant d'année de naissance"
   ]
  },
  {
   "cell_type": "code",
   "execution_count": null,
   "metadata": {
    "deletable": false,
    "editable": false,
    "nbgrader": {
     "cell_type": "code",
     "checksum": "9f490c862022ed4ddfbbddf6cfc8cf92",
     "grade": false,
     "grade_id": "cell-96b91404aa8df10a",
     "locked": true,
     "schema_version": 3,
     "solution": false,
     "task": false
    }
   },
   "outputs": [],
   "source": [
    "%sql SELECT * from Auteurs ORDER BY AnneeNaissance;"
   ]
  },
  {
   "cell_type": "markdown",
   "metadata": {
    "deletable": false,
    "editable": false,
    "nbgrader": {
     "cell_type": "markdown",
     "checksum": "254cb498208be77cbba83b91b065b7a5",
     "grade": false,
     "grade_id": "cell-9d02421596595d51",
     "locked": true,
     "schema_version": 3,
     "solution": false,
     "task": false
    }
   },
   "source": [
    "et par ordre décroissant, on ajoute **DESC** à la fin de la requête"
   ]
  },
  {
   "cell_type": "code",
   "execution_count": null,
   "metadata": {
    "deletable": false,
    "editable": false,
    "nbgrader": {
     "cell_type": "code",
     "checksum": "b3fdb66a111138ee56acdc88f5b8b8e0",
     "grade": false,
     "grade_id": "cell-0468004c28345ded",
     "locked": true,
     "schema_version": 3,
     "solution": false,
     "task": false
    }
   },
   "outputs": [],
   "source": [
    "%sql SELECT * from Auteurs ORDER BY AnneeNaissance DESC;"
   ]
  },
  {
   "cell_type": "markdown",
   "metadata": {
    "deletable": false,
    "editable": false,
    "nbgrader": {
     "cell_type": "markdown",
     "checksum": "4af284edd76252c05170cf877232d22f",
     "grade": false,
     "grade_id": "cell-4485617887b69085",
     "locked": true,
     "schema_version": 3,
     "solution": false,
     "task": false
    }
   },
   "source": [
    "### Éviter les occurrences multiples\n",
    "\n",
    "Interrogons la table Livres sur les années de publication, rangées par ordre croissant :"
   ]
  },
  {
   "cell_type": "code",
   "execution_count": null,
   "metadata": {
    "deletable": false,
    "editable": false,
    "nbgrader": {
     "cell_type": "code",
     "checksum": "0b0ea83e86329908c5550aff2e62cdf3",
     "grade": false,
     "grade_id": "cell-9ef1b4bb32f01d21",
     "locked": true,
     "schema_version": 3,
     "solution": false,
     "task": false
    }
   },
   "outputs": [],
   "source": [
    "%sql SELECT AnneePubli from Livres ORDER BY AnneePubli;"
   ]
  },
  {
   "cell_type": "markdown",
   "metadata": {
    "deletable": false,
    "editable": false,
    "nbgrader": {
     "cell_type": "markdown",
     "checksum": "b415f51379b8d1a6745ebad35a7114cf",
     "grade": false,
     "grade_id": "cell-47154ace5f895d9f",
     "locked": true,
     "schema_version": 3,
     "solution": false,
     "task": false
    }
   },
   "source": [
    "On constate la présence de quelques doublons\n",
    "\n",
    "Pour éviter les redondances dans les résultats, on peut rajouter le mot-clé DISTINCT après le mot-clé SELECT :"
   ]
  },
  {
   "cell_type": "code",
   "execution_count": null,
   "metadata": {
    "deletable": false,
    "editable": false,
    "nbgrader": {
     "cell_type": "code",
     "checksum": "322280d40786a8bbf7a4c0cbc3e11507",
     "grade": false,
     "grade_id": "cell-48ae391d7798d3f6",
     "locked": true,
     "schema_version": 3,
     "solution": false,
     "task": false
    }
   },
   "outputs": [],
   "source": [
    "%sql SELECT DISTINCT AnneePubli from Livres ORDER BY AnneePubli;"
   ]
  },
  {
   "cell_type": "markdown",
   "metadata": {
    "deletable": false,
    "editable": false,
    "nbgrader": {
     "cell_type": "markdown",
     "checksum": "e5b3a9fda9915c25af72ba1a97470127",
     "grade": false,
     "grade_id": "cell-035d091e7af33cad",
     "locked": true,
     "schema_version": 3,
     "solution": false,
     "task": false
    }
   },
   "source": [
    "### A vous de jouer\n",
    "\n",
    "1. Donner la liste de tous les titres des livres écrits entre 1920 et 1950.\n",
    "1. Combien y en a t-il ?"
   ]
  },
  {
   "cell_type": "code",
   "execution_count": null,
   "metadata": {},
   "outputs": [],
   "source": [
    "# Utilisez cette cellule en brouillon pour vos requetes "
   ]
  },
  {
   "cell_type": "code",
   "execution_count": null,
   "metadata": {
    "deletable": false,
    "nbgrader": {
     "cell_type": "code",
     "checksum": "1426e3fb3527e6df50b2477f99e382f3",
     "grade": false,
     "grade_id": "cell-5211028250c4be6f",
     "locked": false,
     "schema_version": 3,
     "solution": true,
     "task": false
    }
   },
   "outputs": [],
   "source": [
    "# Utiliser la syntaxe courte \n",
    "# reponse_i = %sql VOTRE REQUETE pour i=1 ou i=2\n",
    "\n",
    "# YOUR CODE HERE\n",
    "raise NotImplementedError()"
   ]
  },
  {
   "cell_type": "code",
   "execution_count": null,
   "metadata": {
    "deletable": false,
    "editable": false,
    "nbgrader": {
     "cell_type": "code",
     "checksum": "ac969ef788e808ade72eff6ab28251b5",
     "grade": true,
     "grade_id": "cell-d46bde6abf670b0f",
     "locked": true,
     "points": 1,
     "schema_version": 3,
     "solution": false,
     "task": false
    }
   },
   "outputs": [],
   "source": [
    "# Vérification des réponses\n",
    "\n",
    "assert reponse_1[3][0] == 'Les Robots'\n",
    "assert reponse_2[0][0] == 6\n"
   ]
  },
  {
   "cell_type": "markdown",
   "metadata": {
    "deletable": false,
    "editable": false,
    "nbgrader": {
     "cell_type": "markdown",
     "checksum": "1220ad3548b9c73191149cd3535fc4f9",
     "grade": false,
     "grade_id": "cell-98d2c4a4a9f2427b",
     "locked": true,
     "schema_version": 3,
     "solution": false,
     "task": false
    }
   },
   "source": [
    "## Requêtes portant sur plusieurs tables\n",
    "\n",
    "Jusqu'à présent, nos requêtes ne portaient que sur une seule table. Néanmoins note bliste de livres comporte des donées en provenance de plusieurs tables simultanément. Nous allons voir comment effectuer des requêtes pour croiser des données en provenance de plusieurs tables."
   ]
  },
  {
   "cell_type": "code",
   "execution_count": null,
   "metadata": {
    "deletable": false,
    "editable": false,
    "nbgrader": {
     "cell_type": "code",
     "checksum": "15b88153cde753c23fd8880d86505923",
     "grade": false,
     "grade_id": "cell-afd3b8108b72a9f0",
     "locked": true,
     "schema_version": 3,
     "solution": false,
     "task": false
    }
   },
   "outputs": [],
   "source": [
    "%sql SELECT * FROM Langues, Auteurs"
   ]
  },
  {
   "cell_type": "markdown",
   "metadata": {
    "deletable": false,
    "editable": false,
    "nbgrader": {
     "cell_type": "markdown",
     "checksum": "7c1840b8b535ecb3691309ac1fa4b1ac",
     "grade": false,
     "grade_id": "cell-773496f249e55995",
     "locked": true,
     "schema_version": 3,
     "solution": false,
     "task": false
    }
   },
   "source": [
    "Comme on peut le constater cette requête est peu pertinente car elle affiche toutes les données de chacune des tables sans effectuer de croisement. La **clé de jointure** apparaît pourtant ici clairement : il s'agit de id_langue qui doit permettre de recouper les informations entre les deux tables. Il est en effet inutile d'afficher les données pour lesquelles les langues ne correspondent pas entre les deux tables.\n",
    "\n",
    "### Jointure\n",
    "\n",
    "La **jonture** consiste à croiser les données de plusieurs tables pour les présenter sous forme d'un seul tableau. On va utiliser ce mécanisme pour afficher clairement la langue de l'auteur plutôt qu'un numéro qui n'est pas forcément très parlant. Nous utiliserons pour cela l'opérateur **JOIN ... ON** :"
   ]
  },
  {
   "cell_type": "code",
   "execution_count": null,
   "metadata": {
    "deletable": false,
    "editable": false,
    "nbgrader": {
     "cell_type": "code",
     "checksum": "0170bc373fe9e9e8955bc8de2e5b2fd3",
     "grade": false,
     "grade_id": "cell-614b923b97a265a2",
     "locked": true,
     "schema_version": 3,
     "solution": false,
     "task": false
    }
   },
   "outputs": [],
   "source": [
    "%sql SELECT NomAuteur, PrenomAuteur, Langue, AnneeNaissance  FROM Auteurs JOIN Langues ON Auteurs.IdLangue = Langues.IdLangue"
   ]
  },
  {
   "cell_type": "markdown",
   "metadata": {
    "deletable": false,
    "editable": false,
    "nbgrader": {
     "cell_type": "markdown",
     "checksum": "c6aefdac973f52ffa8f872d505684db2",
     "grade": false,
     "grade_id": "cell-9161a13984be1f08",
     "locked": true,
     "schema_version": 3,
     "solution": false,
     "task": false
    }
   },
   "source": [
    "Les champs sur lesquels faire la jointure **ayant les mêmes noms dans les 2 tables**, cette requête peut aussi être écrite plus simplement en utilisant le mot-clé **USING** ainsi : "
   ]
  },
  {
   "cell_type": "code",
   "execution_count": null,
   "metadata": {
    "deletable": false,
    "editable": false,
    "nbgrader": {
     "cell_type": "code",
     "checksum": "be74db019e987d705c00a2626a8b18b0",
     "grade": false,
     "grade_id": "cell-03d184d2a419c24d",
     "locked": true,
     "schema_version": 3,
     "solution": false,
     "task": false
    }
   },
   "outputs": [],
   "source": [
    "%sql SELECT NomAuteur, PrenomAuteur, Langue, AnneeNaissance  FROM Auteurs JOIN Langues USING (IdLangue)"
   ]
  },
  {
   "cell_type": "markdown",
   "metadata": {
    "deletable": false,
    "editable": false,
    "nbgrader": {
     "cell_type": "markdown",
     "checksum": "93e8f7ae82beece63631fefb773bcd45",
     "grade": false,
     "grade_id": "cell-04914d54ccce83c0",
     "locked": true,
     "schema_version": 3,
     "solution": false,
     "task": false
    }
   },
   "source": [
    "### A vous de jouer\n",
    "En croisant la table **Livres** avec la table **Auteurs**\n",
    "\n",
    "1. récupérer dans la variable `reponse_1` une liste dont les attributs sont **Titre**, **PrenomAuteur**, **NomAuteur** et **AnneePubli**, triée du plus récent au plus ancien.\n",
    "1. récupérer dans la variable `reponse_2` une liste dont les attributs sont **Titre**, **PrenomAuteur**, **NomAuteur** et **AnneePubli** écrits en français."
   ]
  },
  {
   "cell_type": "code",
   "execution_count": null,
   "metadata": {
    "deletable": false,
    "nbgrader": {
     "cell_type": "code",
     "checksum": "9f54440a7eed96d8a33814d177c08198",
     "grade": false,
     "grade_id": "cell-fd66bab03326fa03",
     "locked": false,
     "schema_version": 3,
     "solution": true,
     "task": false
    }
   },
   "outputs": [],
   "source": [
    "# Utiliser la syntaxe courte \n",
    "# reponse_i = %sql VOTRE REQUETE pour i=1 ou i=2\n",
    "\n",
    "# YOUR CODE HERE\n",
    "raise NotImplementedError()"
   ]
  },
  {
   "cell_type": "code",
   "execution_count": null,
   "metadata": {},
   "outputs": [],
   "source": [
    "# Utilisez cette cellule en brouillon pour vos requetes "
   ]
  },
  {
   "cell_type": "code",
   "execution_count": null,
   "metadata": {
    "deletable": false,
    "editable": false,
    "nbgrader": {
     "cell_type": "code",
     "checksum": "08e38e2a121b163aead55d03c5d325da",
     "grade": true,
     "grade_id": "cell-748883b92342a1c5",
     "locked": true,
     "points": 1,
     "schema_version": 3,
     "solution": false,
     "task": false
    }
   },
   "outputs": [],
   "source": [
    "assert reponse_1[0] == ('Ubik', 'Philip', 'K. Dick', 1969)\n",
    "assert reponse_2[0] == ('La nuit des temps', 'René', 'Barjavel', 1968)"
   ]
  },
  {
   "cell_type": "markdown",
   "metadata": {
    "deletable": false,
    "editable": false,
    "nbgrader": {
     "cell_type": "markdown",
     "checksum": "dbf033dc3b5aebe3f340acc5142fdc3d",
     "grade": false,
     "grade_id": "cell-1ac3628ef6c98e54",
     "locked": true,
     "schema_version": 3,
     "solution": false,
     "task": false
    }
   },
   "source": [
    "### Le cas des relations de n à n\n",
    "\n",
    "Parfois i larrive que les données à collecter se trouvent dans plus que deux tables : c'est le cas des Thèmes pour les livres qui nécessitent l'analyse de 3 tables : **Livres** et **Thèmes** bien sûr, mais aussi la table de relation **RelationsLivreTheme**.\n",
    "\n",
    "Observez et étudiez la requête suivante : Le principe est d'enchaîner deux jointures **JOIN ... USING** en utilisant ***la table de Relation au milieu***. En effet, la requête se lit de la gauche vers la droite et on ne peut faire de jointure que si on a une clé externe en commun, ce qui n'est par exemple pas le cas entre **Livres** et **Thèmes**."
   ]
  },
  {
   "cell_type": "code",
   "execution_count": null,
   "metadata": {
    "deletable": false,
    "editable": false,
    "nbgrader": {
     "cell_type": "code",
     "checksum": "abf529850060f489ef2a3b94b7309173",
     "grade": false,
     "grade_id": "cell-6fa9774033a9b26a",
     "locked": true,
     "schema_version": 3,
     "solution": false,
     "task": false
    }
   },
   "outputs": [],
   "source": [
    "%sql SELECT Titre, Intitule FROM Livres JOIN RelationsLivreTheme USING (IdLivre) JOIN Themes USING (IdTheme)"
   ]
  },
  {
   "cell_type": "markdown",
   "metadata": {
    "deletable": false,
    "editable": false,
    "nbgrader": {
     "cell_type": "markdown",
     "checksum": "6ff1c6801ad81698187080f5a10d0c38",
     "grade": false,
     "grade_id": "cell-bdd7848b22dbe49e",
     "locked": true,
     "schema_version": 3,
     "solution": false,
     "task": false
    }
   },
   "source": [
    "### A vous de jouer\n",
    "\n",
    "Ecrire une requête permettant d'obtenir une liste dont les attributs sont **Titre**, **NomAuteur** et **Langue** triée par ordre croissant de date de naissance de l'auteur.\n",
    "\n",
    "Vous stockerez le résultat dans une variable `result`"
   ]
  },
  {
   "cell_type": "code",
   "execution_count": null,
   "metadata": {
    "deletable": false,
    "nbgrader": {
     "cell_type": "code",
     "checksum": "437d308c55a45d6017f42138610951ae",
     "grade": false,
     "grade_id": "cell-d1e4e09a10e0d4e9",
     "locked": false,
     "schema_version": 3,
     "solution": true,
     "task": false
    }
   },
   "outputs": [],
   "source": [
    "# Utiliser la syntaxe courte \n",
    "# reponse = %sql VOTRE REQUETE \n",
    "\n",
    "# YOUR CODE HERE\n",
    "raise NotImplementedError()"
   ]
  },
  {
   "cell_type": "code",
   "execution_count": null,
   "metadata": {},
   "outputs": [],
   "source": [
    "# Utilisez cette cellule en brouillon pour vos requetes \n"
   ]
  },
  {
   "cell_type": "code",
   "execution_count": null,
   "metadata": {
    "deletable": false,
    "editable": false,
    "nbgrader": {
     "cell_type": "code",
     "checksum": "510bfffbed3d5a0c47bba70c79985f37",
     "grade": true,
     "grade_id": "cell-d0cd2873cdc7af8b",
     "locked": true,
     "points": 1,
     "schema_version": 3,
     "solution": false,
     "task": false
    }
   },
   "outputs": [],
   "source": [
    "assert result[0] == ('De la Terre à la Lune', 'Verne', 'Français')\n"
   ]
  },
  {
   "cell_type": "code",
   "execution_count": null,
   "metadata": {},
   "outputs": [],
   "source": []
  }
 ],
 "metadata": {
  "kernelspec": {
   "display_name": "Python 3",
   "language": "python",
   "name": "python3"
  },
  "language_info": {
   "codemirror_mode": {
    "name": "ipython",
    "version": 3
   },
   "file_extension": ".py",
   "mimetype": "text/x-python",
   "name": "python",
   "nbconvert_exporter": "python",
   "pygments_lexer": "ipython3",
   "version": "3.8.2"
  }
 },
 "nbformat": 4,
 "nbformat_minor": 4
}
