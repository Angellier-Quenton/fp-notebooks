{
 "cells": [
  {
   "cell_type": "markdown",
   "metadata": {},
   "source": [
    "# Le réseau en Python côté client\n",
    "\n",
    "> application socket client basique\n",
    "\n",
    "- toc: true\n",
    "- badges: true\n",
    "- comments: false\n",
    "- categories: [ISN, socket]"
   ]
  },
  {
   "cell_type": "markdown",
   "metadata": {},
   "source": [
    "Avant d'ouvrir ce classeur, vous devrez avoir traité le classeur **Python 7 - Découverte du réseau et serveur** jusqu'à la partie IV."
   ]
  },
  {
   "cell_type": "markdown",
   "metadata": {},
   "source": [
    "Voici un programme client basique écrit en Python. On utilise toujours la librairie ***socket*** qui gère la communication réseau en Python.\n",
    "\n",
    "Exécutez la cellule suivante cellule après avoir lancé le serveur sur le classeur **Python 7 - Découverte du réseau et serveur**, puis rendez-vous dans l'onglet serveur pour initier la discussion.\n",
    "\n",
    "Remarquez que quand le client tourne, le kernel python est monopolisé et ne permet plus l'exécution d'une autre cellule, d'où la nécessité d'avoir deux classeurs distincts.\n",
    "\n",
    "Néanmoins, vous pourrez compléter la section suivante sur la compréhension du programme et répondre aux questions posées pendant que le client tourne."
   ]
  },
  {
   "cell_type": "markdown",
   "metadata": {},
   "source": [
    "## Le programme client"
   ]
  },
  {
   "cell_type": "code",
   "execution_count": null,
   "metadata": {},
   "outputs": [],
   "source": [
    "from socket import *\n",
    "\n",
    "SERVEUR , PORT = '127.0.0.1' , 50000\n",
    "liaison = socket(AF_INET, SOCK_STREAM)\n",
    "\n",
    "try:\n",
    "    liaison.connect((SERVEUR, PORT))\n",
    "    message=\"\"\n",
    "except error:\n",
    "    print(\"La connexion a échoué.\")\n",
    "    message=\"FIN\"\n",
    "    \n",
    "# serveur et service\n",
    "while message.upper() != \"FIN\" :\n",
    "    message = liaison.recv(1024).decode(\"utf8\")\n",
    "    print(\"serveur >\", message)\n",
    "    if message.upper() != \"FIN\" :\n",
    "        message = input(\"moi > \")\n",
    "        liaison.send(message.encode(\"utf8\"))\n",
    "        \n",
    "print(\"Connexion terminée.\" )\n",
    "liaison.close()"
   ]
  },
  {
   "cell_type": "markdown",
   "metadata": {},
   "source": [
    "## Compréhesion du programme client"
   ]
  },
  {
   "cell_type": "markdown",
   "metadata": {},
   "source": [
    "1) Que se passe t-il si vous lancez le client ***avant*** d'avoir lancé le serveur ?\n",
    "\n",
    "Votre réponse ..."
   ]
  },
  {
   "cell_type": "markdown",
   "metadata": {},
   "source": [
    "2) Quelle commande est responsable sur le client de l’envoi du message au serveur ?\n",
    "\n",
    "Votre réponse ..."
   ]
  },
  {
   "cell_type": "markdown",
   "metadata": {},
   "source": [
    "3) Écrire en langage naturel l’algorithme correspondant au programme client\n",
    "\n",
    "Votre réponse ..."
   ]
  },
  {
   "cell_type": "markdown",
   "metadata": {},
   "source": [
    "# A vous de jouer : Jeu du juste prix en réseau"
   ]
  },
  {
   "cell_type": "markdown",
   "metadata": {},
   "source": [
    "Ecrire ci-dessous le code client du jeu du juste prix"
   ]
  },
  {
   "cell_type": "code",
   "execution_count": null,
   "metadata": {},
   "outputs": [],
   "source": [
    "# Votre programme ici..."
   ]
  },
  {
   "cell_type": "code",
   "execution_count": null,
   "metadata": {},
   "outputs": [],
   "source": []
  }
 ],
 "metadata": {
  "kernelspec": {
   "display_name": "Python 3",
   "language": "python",
   "name": "python3"
  },
  "language_info": {
   "codemirror_mode": {
    "name": "ipython",
    "version": 3
   },
   "file_extension": ".py",
   "mimetype": "text/x-python",
   "name": "python",
   "nbconvert_exporter": "python",
   "pygments_lexer": "ipython3",
   "version": "3.6.9"
  }
 },
 "nbformat": 4,
 "nbformat_minor": 1
}
