{
 "cells": [
  {
   "cell_type": "markdown",
   "metadata": {},
   "source": [
    "# Découverte du langage SQL\n",
    "\n",
    "> Cours NSI Terminale - Thème 2.\n",
    "\n",
    "- toc: true \n",
    "- badges: true\n",
    "- comments: false\n",
    "- categories: [python, NSI, Terminale, Bases de donnees, SQL, TP]\n",
    "- image: /images/nsi2.png"
   ]
  },
  {
   "cell_type": "markdown",
   "metadata": {
    "deletable": false,
    "editable": false,
    "nbgrader": {
     "checksum": "69980bf19c827941b2375c7a5c61f4fc",
     "grade": false,
     "grade_id": "cell-916b8b114b6f2c6f",
     "locked": true,
     "schema_version": 1,
     "solution": false
    }
   },
   "source": [
    "Dans ce TP jous allons découvrir le langage SQL (*Structured Query Language*) qui est le langage utilisé pour\n",
    "effectuer des requêtes sur une base de données relationnelles. Nous apprendrons lors de ce TP à\n",
    "- créer des tables avec les attributs que l'on souhaite\n",
    "- insérer des enregistrements\n",
    "- faire des requêtes sur la base pour extraire des informations\n",
    "\n",
    "Contrairement aux apparences, nbous n'utiliserons pas Python dans ce classeur, mais directement SQL grâce à l'extension **ipython-sql** qu'il faut activer en validant la cellule suivante :"
   ]
  },
  {
   "cell_type": "code",
   "execution_count": null,
   "metadata": {
    "deletable": false,
    "editable": false,
    "nbgrader": {
     "checksum": "7b53d2abf3df2a5b614bebe70957ced4",
     "grade": false,
     "grade_id": "cell-390143509df6c8a7",
     "locked": true,
     "schema_version": 1,
     "solution": false
    }
   },
   "outputs": [],
   "source": [
    "%load_ext sql"
   ]
  },
  {
   "cell_type": "markdown",
   "metadata": {
    "deletable": false,
    "editable": false,
    "nbgrader": {
     "checksum": "71ca2b4c445c28e31f6b73fff7535d94",
     "grade": false,
     "grade_id": "cell-3e66312a97ed9a24",
     "locked": true,
     "schema_version": 1,
     "solution": false
    }
   },
   "source": [
    "En cas d'erreurs lors du chargement de l'extension, vous pouvez tenter de réinstaller les paquets nécessaires via les commandes\n",
    " ```bash\n",
    "pip install jupyter-sql\n",
    "pip install ipython-sql\n",
    "sudo apt install python3-sql\n",
    "```\n",
    "puis relancer jupyter.\n",
    "\n",
    "## Créer la base de données\n",
    "\n",
    "Nous allons commencer par créer une base vide dans laquelle nous allons travailler :"
   ]
  },
  {
   "cell_type": "code",
   "execution_count": null,
   "metadata": {
    "deletable": false,
    "editable": false,
    "nbgrader": {
     "checksum": "07c0881634a3b7bdbc718a3fa27ea520",
     "grade": false,
     "grade_id": "cell-44a1fca04afad327",
     "locked": true,
     "schema_version": 1,
     "solution": false
    }
   },
   "outputs": [],
   "source": [
    "%sql sqlite:///livres_db"
   ]
  },
  {
   "cell_type": "markdown",
   "metadata": {
    "deletable": false,
    "editable": false,
    "nbgrader": {
     "checksum": "16ca1b94c0ae9c910e2b490fcb61d9f1",
     "grade": false,
     "grade_id": "cell-658db7b8f11cf54e",
     "locked": true,
     "schema_version": 1,
     "solution": false
    }
   },
   "source": [
    "La base s'appelle **livres_db** et est au format *sqlite* qui est un gestionnaire de base de données relationnelles léger et facile à prendre en main.\n",
    "\n",
    "Les données seront inscrites dans le fichier **livres_db** qui vient d'être créé à côté de ce classeur et que vous pourrez télécharger quand vous aurez fini ce TP.\n",
    "\n",
    "L'objectif est de peupler cette base de données avec la base **livres** que l'on a étudié lors de la découverte du modèle relationnel. Cette base sera constituée de 3 tables :\n",
    "- AUTEURS\n",
    "- LIVRES\n",
    "- NOTES"
   ]
  },
  {
   "cell_type": "markdown",
   "metadata": {
    "deletable": false,
    "editable": false,
    "nbgrader": {
     "checksum": "43dba61ef0dbba0b33a6a1db73c5b751",
     "grade": false,
     "grade_id": "cell-d3b96ced193ac2d1",
     "locked": true,
     "schema_version": 1,
     "solution": false
    }
   },
   "source": [
    "## Créer une table\n",
    "\n",
    "Il est temps de commencer à peupler notre base de données. Nous allons commencer par la table **AUTEURS**. Nous allons donc saisir notre première requête :"
   ]
  },
  {
   "cell_type": "code",
   "execution_count": null,
   "metadata": {
    "deletable": false,
    "editable": false,
    "nbgrader": {
     "checksum": "af0df940a3126554a4ec6e7f254cef4a",
     "grade": false,
     "grade_id": "cell-880dbe37cf688733",
     "locked": true,
     "schema_version": 1,
     "solution": false
    }
   },
   "outputs": [],
   "source": [
    "%%sql \n",
    "CREATE TABLE \"AUTEURS\" (\n",
    "\t\"id\"\t    INTEGER  PRIMARY KEY,\n",
    "\t\"nom\"\t    TEXT,\n",
    "\t\"prenom\"    TEXT,\n",
    "\t\"langue\"    TEXT,\n",
    "\t\"annee_nai\"\tINTEGER\n",
    ");"
   ]
  },
  {
   "cell_type": "markdown",
   "metadata": {
    "deletable": false,
    "editable": false,
    "nbgrader": {
     "checksum": "b0f02da56135f4c4971eae1bc8e5900c",
     "grade": false,
     "grade_id": "cell-20d4b7cc5439a4fe",
     "locked": true,
     "schema_version": 1,
     "solution": false
    }
   },
   "source": [
    "### Quelques explications :\n",
    "\n",
    "Pour commencer, dans jupyter lorsque nous voudront taper une commande **SQL** et non du la,gage python, nous inscrirons **en première ligne de cellule** la commande *magique* `%%sql`. N'oubliez jamais de commencer toutes vos cellules ainsi car sinon, la commande sera interprétée par *python* qui ne connait pas le langage SQL et provoquera une erreur.\n",
    "\n",
    "La première requête **SQL** que nous allons apprendre est la requête `CREATE TABLE`\n",
    "- on insique le nom de la table à créer\n",
    "- entre parenthèse on liste les *attributs* à mettre ainsi que leur *type*.\n",
    "- une requête se termine **toujours** par ;\n",
    "\n",
    "Nous avons deux types différents dans notre base de données :\n",
    "- le type TEXT pour tout ce qui est chaîne de caractères\n",
    "- le type INTEGER pour les entiers\n",
    "\n",
    "L'attribut **id** est la *clé primaire* de la table. C'est un entier qui commence à 1 et qui sera automatiquement incrémenté au fur à mesure que l'on insère des données dans la table. C'est en indiquant `PRIMARY KEY` après le type dans la déclaration de l'attribut **id** que *sqlite* se comporte ainsi."
   ]
  },
  {
   "cell_type": "markdown",
   "metadata": {
    "deletable": false,
    "editable": false,
    "nbgrader": {
     "checksum": "d53eadd2bf962b91b6dfb781050b79e7",
     "grade": false,
     "grade_id": "cell-29801329779f4f15",
     "locked": true,
     "schema_version": 1,
     "solution": false
    }
   },
   "source": [
    "## Insérer des enregistrements dans la table\n",
    "\n",
    "Maintenant que nous avons une table vide, il nous faut la remplir avec les données sur les auteurs. Nous utiliserons pour cela la requête **INSERT**. Voici son utilisation :"
   ]
  },
  {
   "cell_type": "code",
   "execution_count": null,
   "metadata": {
    "deletable": false,
    "editable": false,
    "nbgrader": {
     "checksum": "de269a24cc2d7757c50dfb1e23588ab7",
     "grade": false,
     "grade_id": "cell-e21f4409fe9aadc0",
     "locked": true,
     "schema_version": 1,
     "solution": false
    }
   },
   "outputs": [],
   "source": [
    "%%sql \n",
    "INSERT INTO AUTEURS \n",
    "    (nom, prenom, langue, annee_nai)\n",
    "VALUES\n",
    "    (\"Orwell\", \"George\", \"Anglais\", 1903),\n",
    "    (\"Herbert\", \"Frank\", \"Anglais\", 1920),\n",
    "    (\"Asimov\", \"Isaac\", \"Anglais\", 1920),\n",
    "    (\"Huxley\", \"Aldous\", \"Anglais\", 1894),\n",
    "    (\"Bradbury\", \"Ray\", \"Anglais\", 1920),\n",
    "    (\"K. Dick\", \"Philip\", \"Anglais\", 1928),\n",
    "    (\"Barjavel\", \"René\", \"Français\", 1911),\n",
    "    (\"Boulle\", \"Pierre\", \"Français\", 1912),\n",
    "    (\"Van Vogt\", \"Alfred Elton\", \"Anglais\", 1912),\n",
    "    (\"Verne\", \"Jules\", \"Français\", 1828);"
   ]
  },
  {
   "cell_type": "markdown",
   "metadata": {
    "deletable": false,
    "editable": false,
    "nbgrader": {
     "checksum": "57abf87ebfb871bd478367ec03c6119a",
     "grade": false,
     "grade_id": "cell-01b63250bc7b5d4a",
     "locked": true,
     "schema_version": 1,
     "solution": false
    }
   },
   "source": [
    "### Quelques explications :\n",
    "\n",
    "La requête **INSERT** s'utilise ainsi :\n",
    "```\n",
    "INSERT INTO ##TABLE##\n",
    "    (## attributs dont on donne les valeurs##)\n",
    "VALUES\n",
    "    (## enregistrement 1 ##),\n",
    "    ...\n",
    "    (## enregistrement n ##);\n",
    "```\n",
    "\n",
    "On peut refaire une autre requête **INSERT** à la suite si on qouhaite ajouter encore des données au bout de la table. \n",
    "\n",
    "Vous remarquez que l'on ne donne pas de valeur pour l'attribut **id**. C'est parce qu'on l'a déclaré en `PRIMARY KEY`. Il est donc automatiquement géré par sqlite. Nous verrons cela en lisant le cpontenu complet de la table.\n",
    "\n",
    "On est pas obligé de préciser tous les attributs. **id** est un exemple particulier, mais il est possible d'ommetre d'autres attributs. Ils seront alors affectés d'une valeur nulle.\n",
    "\n",
    "A l'issue de la requête, sqlite nous informe que 10 lignes ont été créées."
   ]
  },
  {
   "cell_type": "markdown",
   "metadata": {
    "deletable": false,
    "editable": false,
    "nbgrader": {
     "checksum": "13a272e33c8c1f0c4f6b3781873da0f9",
     "grade": false,
     "grade_id": "cell-86faa650596b82e0",
     "locked": true,
     "schema_version": 1,
     "solution": false
    }
   },
   "source": [
    "## Lire le contenu d'une table\n",
    "\n",
    "Nous allons à présent utiliser une requête **SELECT** afin de récupérer le contenu de la table. Ces requêtes peuvent être très sophistiquées comme on va le voir en fin de TP. Pour le moment, nous nous contenterons de la forme la plus simple :"
   ]
  },
  {
   "cell_type": "code",
   "execution_count": null,
   "metadata": {
    "deletable": false,
    "editable": false,
    "nbgrader": {
     "checksum": "a81d0bdbed85205248acc3fae4a02123",
     "grade": false,
     "grade_id": "cell-83bd3a93a2cdf04b",
     "locked": true,
     "schema_version": 1,
     "solution": false
    }
   },
   "outputs": [],
   "source": [
    "%%sql\n",
    "\n",
    "SELECT * FROM AUTEURS;"
   ]
  },
  {
   "cell_type": "markdown",
   "metadata": {
    "deletable": false,
    "editable": false,
    "nbgrader": {
     "checksum": "70868eaf1b5dec2891e6806eb6071b43",
     "grade": false,
     "grade_id": "cell-41c695377db1a2fc",
     "locked": true,
     "schema_version": 1,
     "solution": false
    }
   },
   "source": [
    "Vous voyez donc appraître le contenbu de la table. Vous constatez que la clé primaire **id** a bien été générée correctement.\n",
    "\n",
    "Il est possible de stoquer le résultat de cette requête dans une variable pour l'exploiter plus facilement dans jupyter? Voici comment procéder en modifiant légèrement la première ligne :"
   ]
  },
  {
   "cell_type": "code",
   "execution_count": null,
   "metadata": {
    "deletable": false,
    "editable": false,
    "nbgrader": {
     "checksum": "7d508a2caf8ad1770a81dfe889e0dbbd",
     "grade": false,
     "grade_id": "cell-f237c83ff2656a96",
     "locked": true,
     "schema_version": 1,
     "solution": false
    }
   },
   "outputs": [],
   "source": [
    "resultat = %sql SELECT * FROM AUTEURS;"
   ]
  },
  {
   "cell_type": "markdown",
   "metadata": {
    "deletable": false,
    "editable": false,
    "nbgrader": {
     "checksum": "012a1deb7bb8be3234095f6bd64cc233",
     "grade": false,
     "grade_id": "cell-f7f1c166af4f90e9",
     "locked": true,
     "schema_version": 1,
     "solution": false
    }
   },
   "source": [
    "Vous voyez au passage la syntaxe concise permettant de récupérer le résultat d'une requête dans une variable. Cette variable `résultat` est exploitable dans ce classeur, y compris par python !!"
   ]
  },
  {
   "cell_type": "code",
   "execution_count": null,
   "metadata": {},
   "outputs": [],
   "source": [
    "resultat"
   ]
  },
  {
   "cell_type": "code",
   "execution_count": null,
   "metadata": {},
   "outputs": [],
   "source": [
    "print(resultat)"
   ]
  },
  {
   "cell_type": "code",
   "execution_count": null,
   "metadata": {},
   "outputs": [],
   "source": [
    "resultat[2]"
   ]
  },
  {
   "cell_type": "markdown",
   "metadata": {
    "deletable": false,
    "editable": false,
    "nbgrader": {
     "checksum": "b164c4f6f7aadde6681f2cc578b6f1cf",
     "grade": false,
     "grade_id": "cell-cc70d278076413c5",
     "locked": true,
     "schema_version": 1,
     "solution": false
    }
   },
   "source": [
    "On a donc ici le meilleur des deux mondes : des requêtes **SQL** et une base de données pour stocker efficacement les données, le langage python pour traiter ces données grâce à des algorithmes faciles à écrire."
   ]
  },
  {
   "cell_type": "markdown",
   "metadata": {
    "deletable": false,
    "editable": false,
    "nbgrader": {
     "checksum": "2a7228e041af371cfdce612aec714fab",
     "grade": false,
     "grade_id": "cell-f48b620f9d01140f",
     "locked": true,
     "schema_version": 1,
     "solution": false
    }
   },
   "source": [
    "## A vous de jouer\n",
    "\n",
    "Notre base n'est pas encore complète : il nous reste à créer les tables **LIVRES** et **NOTES** qui doivent refléter le contenu suivant :\n",
    "\n",
    "|           titre           |   nom    |    prenom    | annee_nai |  langue  | ann_publi | note |\n",
    "|---------------------------|----------|--------------|-----------|----------|-----------|------|\n",
    "|            1984           |  Orwell  |    George    |    1903   | Anglais  |    1949   |  10  |\n",
    "|            Dune           | Herbert  |    Frank     |    1920   | Anglais  |    1965   |  8   |\n",
    "|         Fondation         |  Asimov  |    Isaac     |    1920   | Anglais  |    1951   |  9   |\n",
    "|   Le meilleur des mondes  |  Huxley  |    Aldous    |    1894   | Anglais  |    1931   |  7   |\n",
    "|       Fahrenheit 451      | Bradbury |     Ray      |    1920   | Anglais  |    1953   |  7   |\n",
    "|            Ubik           | K. Dick  |    Philip    |    1928   | Anglais  |    1969   |  9   |\n",
    "|   Chroniques martiennes   | Bradbury |     Ray      |    1920   | Anglais  |    1950   |  8   |\n",
    "|     La nuit des temps     | Barjavel |     René     |    1911   | Français |    1968   |  7   |\n",
    "|        Blade Runner       | K. Dick  |    Philip    |    1928   | Anglais  |    1968   |  8   |\n",
    "|         Les Robots        |  Asimov  |    Isaac     |    1920   | Anglais  |    1950   |  9   |\n",
    "|   La Planète des singes   |  Boulle  |    Pierre    |    1912   | Français |    1963   |  8   |\n",
    "|           Ravage          | Barjavel |     René     |    1911   | Français |    1943   |  8   |\n",
    "| Le Maître du Haut Château | K. Dick  |    Philip    |    1928   | Anglais  |    1962   |  8   |\n",
    "|       Le monde des A      | Van Vogt | Alfred Elton |    1912   | Anglais  |    1945   |  7   |\n",
    "|    La Fin de l’éternité   |  Asimov  |    Isaac     |    1920   | Anglais  |    1955   |  8   |\n",
    "|   De la Terre à la Lune   |  Verne   |    Jules     |    1828   | Français |    1865   |  10  |\n",
    "\n",
    "### La table LIVRES\n",
    "\n",
    "La table **LIVRES** devra avoir la structure décrite dans l'extrait suivant :\n",
    "\n",
    "| id |           titre           | id_auteur | ann_publi |\n",
    "|----|---------------------------|-----------|-----------|\n",
    "| ...  |            ...          |     ...     |    ...   |\n",
    "| 8  |     La nuit des temps     |     7     |    1968   |\n",
    "| ...  |            ...          |     ...     |    ...   |\n",
    "\n",
    "- l'année de publication est de type **INTEGER**\n",
    "- **id** désigne bien sûr la clé primaire\n",
    "- **id_auteur** est une *clé externe* faisant référence à l'auteur.\n",
    "- dans l'extrait, la clé **id_auteur** vaut 7. L'auteur de *La nuit des temps* est donc *Barjavel*\n",
    "- on ne renseigne pas la langue ou l'année de naissance de l'auteur car ces informations sont déjà présentes dans la table **AUTEURS**.\n"
   ]
  },
  {
   "cell_type": "code",
   "execution_count": null,
   "metadata": {
    "deletable": false,
    "nbgrader": {
     "checksum": "a9671cc6c3eff1e271ab8033345b2c1f",
     "grade": false,
     "grade_id": "cell-cb6e3a0ab598131d",
     "locked": false,
     "schema_version": 1,
     "solution": true
    }
   },
   "outputs": [],
   "source": [
    "%%sql\n",
    "\n",
    "/* \n",
    "# YOUR CODE HERE\n",
    "raise NotImplementedError()\n",
    "*/"
   ]
  },
  {
   "cell_type": "markdown",
   "metadata": {
    "deletable": false,
    "editable": false,
    "nbgrader": {
     "checksum": "e32618d42f07179fb436946fd2863f92",
     "grade": false,
     "grade_id": "cell-16f0fe25a834d091",
     "locked": true,
     "schema_version": 1,
     "solution": false
    }
   },
   "source": [
    "Vérifiez votre travail en lisant tous les enregistrements de la table **LIVRES*** dans la variable `resultat`"
   ]
  },
  {
   "cell_type": "code",
   "execution_count": null,
   "metadata": {
    "deletable": false,
    "nbgrader": {
     "checksum": "6086e214b05330fd4406fe8e588aaba2",
     "grade": false,
     "grade_id": "cell-1d7d786452feb004",
     "locked": false,
     "schema_version": 1,
     "solution": true
    }
   },
   "outputs": [],
   "source": [
    "# YOUR CODE HERE\n",
    "raise NotImplementedError()\n",
    "resultat"
   ]
  },
  {
   "cell_type": "code",
   "execution_count": null,
   "metadata": {
    "deletable": false,
    "editable": false,
    "nbgrader": {
     "checksum": "51e933a7d36f9535376f2176e85b59a4",
     "grade": true,
     "grade_id": "cell-bcf2fb5cae26d98e",
     "locked": true,
     "points": 1,
     "schema_version": 1,
     "solution": false
    }
   },
   "outputs": [],
   "source": [
    "assert (1, '1984', 1, 1949) in resultat"
   ]
  },
  {
   "cell_type": "markdown",
   "metadata": {
    "deletable": false,
    "editable": false,
    "nbgrader": {
     "checksum": "2184753e1295f2efe7f3a705cad3e43a",
     "grade": false,
     "grade_id": "cell-1bfbd2a02c2a73e6",
     "locked": true,
     "schema_version": 1,
     "solution": false
    }
   },
   "source": [
    "### La table NOTES\n",
    "\n",
    "Terminons avec la table **NOTES**. Celle-ci devra avoir la structure décrite dans l'extrait suivant :\n",
    "\n",
    "| id | id_livre | note |\n",
    "|----|----------|------|\n",
    "| ...  |   ...     |  ...  |\n",
    "| 7  |    7     |  8   |\n",
    "| ...  |   ...     |  ...  |\n",
    "\n",
    "- la note est un entier\n",
    "- **id** désigne bien sûr la clé primaire\n",
    "- **id_livre** est une *clé externe* faisant référence au livre évalué.\n",
    "- dans l'extrait, la clé **id_livre** vaut 7 : il s'agit des *Chroniques martiennes* qui a eu la note 8.\n"
   ]
  },
  {
   "cell_type": "code",
   "execution_count": null,
   "metadata": {
    "deletable": false,
    "nbgrader": {
     "checksum": "95f60ae911038ca5839e1012f6139ce8",
     "grade": false,
     "grade_id": "cell-46cc53689e60030a",
     "locked": false,
     "schema_version": 1,
     "solution": true
    }
   },
   "outputs": [],
   "source": [
    "%%sql \n",
    "\n",
    "/* \n",
    "# YOUR CODE HERE\n",
    "raise NotImplementedError()\n",
    "*/"
   ]
  },
  {
   "cell_type": "markdown",
   "metadata": {
    "deletable": false,
    "editable": false,
    "nbgrader": {
     "checksum": "ac261d886017c4e09f0f46ef1e9bbb1d",
     "grade": false,
     "grade_id": "cell-6ed462a3bc3f7cf1",
     "locked": true,
     "schema_version": 1,
     "solution": false
    }
   },
   "source": [
    "Vérifiez votre travail en lisant tous les enregistrements de la table **NOTES*** dans la variable `resultat`"
   ]
  },
  {
   "cell_type": "code",
   "execution_count": null,
   "metadata": {
    "deletable": false,
    "nbgrader": {
     "checksum": "1ccf1b78c798f69caed489c03c33e61c",
     "grade": false,
     "grade_id": "cell-cc2f33781006ca1b",
     "locked": false,
     "schema_version": 1,
     "solution": true
    }
   },
   "outputs": [],
   "source": [
    "# YOUR CODE HERE\n",
    "raise NotImplementedError()\n",
    "resultat"
   ]
  },
  {
   "cell_type": "code",
   "execution_count": null,
   "metadata": {
    "deletable": false,
    "editable": false,
    "nbgrader": {
     "checksum": "5af1f1ea526a574546f76b26d6c6cb14",
     "grade": true,
     "grade_id": "cell-8676060641ad67a1",
     "locked": true,
     "points": 1,
     "schema_version": 1,
     "solution": false
    }
   },
   "outputs": [],
   "source": [
    "assert (1, 1, 10) in resultat"
   ]
  },
  {
   "cell_type": "markdown",
   "metadata": {
    "deletable": false,
    "editable": false,
    "nbgrader": {
     "checksum": "1513f1e80c788b0f5eb4228f953b811f",
     "grade": false,
     "grade_id": "cell-49248ef4a142ada5",
     "locked": true,
     "schema_version": 1,
     "solution": false
    }
   },
   "source": [
    "Notre base de données est à présent complète. Nous allons voir à présent comment faire des requêtes plus élaborées, en particulier en mettant en place des filtres et des tris.\n",
    "\n",
    "## Aller plus loin avec SELECT\n",
    "\n",
    "### Filtre dans une requete SELECT\n",
    "\n",
    "Supposons que l'on veuille lister seulement les noms et prénoms des auteurs nés avant 1900, voici comment procéder :"
   ]
  },
  {
   "cell_type": "code",
   "execution_count": null,
   "metadata": {
    "deletable": false,
    "editable": false,
    "nbgrader": {
     "checksum": "56aa2b7a009c5f07fa8a653cd382da10",
     "grade": false,
     "grade_id": "cell-6c37743873f8deee",
     "locked": true,
     "schema_version": 1,
     "solution": false
    }
   },
   "outputs": [],
   "source": [
    "%sql SELECT nom, prenom from AUTEURS WHERE annee_nai < 1900;"
   ]
  },
  {
   "cell_type": "markdown",
   "metadata": {
    "deletable": false,
    "editable": false,
    "nbgrader": {
     "checksum": "9cf554ea9928da01b3fd34f5c9a19f6e",
     "grade": false,
     "grade_id": "cell-a3dc75532fa4f69d",
     "locked": true,
     "schema_version": 1,
     "solution": false
    }
   },
   "source": [
    "### Compter le nombre de réponses d'une requête SELECT\n",
    "\n",
    "Combien y a t-il d'auteurs nés entre 1900 et 1915 ?"
   ]
  },
  {
   "cell_type": "code",
   "execution_count": null,
   "metadata": {
    "deletable": false,
    "editable": false,
    "nbgrader": {
     "checksum": "293d6d94fc631b3ee8bb0a3856f0b852",
     "grade": false,
     "grade_id": "cell-65ecbcd34eb9c0fd",
     "locked": true,
     "schema_version": 1,
     "solution": false
    }
   },
   "outputs": [],
   "source": [
    "nbr = %sql SELECT COUNT(*) from AUTEURS WHERE annee_nai >= 1900 AND annee_nai<=1915;\n",
    "\n",
    "print(nbr)\n",
    "print(\"récupérer juste le nombre : \", nbr[0][0])"
   ]
  },
  {
   "cell_type": "markdown",
   "metadata": {
    "deletable": false,
    "editable": false,
    "nbgrader": {
     "checksum": "6932529c64238bd28a3a2ce61fcf2fb3",
     "grade": false,
     "grade_id": "cell-5d078b38944f57f0",
     "locked": true,
     "schema_version": 1,
     "solution": false
    }
   },
   "source": [
    "### Sélectionner des éléments distincts\n",
    "\n",
    "Je m'intéresse au différentes langues des auteurs. Si je fais la requête :"
   ]
  },
  {
   "cell_type": "code",
   "execution_count": null,
   "metadata": {
    "deletable": false,
    "editable": false,
    "nbgrader": {
     "checksum": "61f9812e2d11dcc2eccebc13433603c2",
     "grade": false,
     "grade_id": "cell-0421b6f797f01625",
     "locked": true,
     "schema_version": 1,
     "solution": false
    }
   },
   "outputs": [],
   "source": [
    "%sql SELECT  langue from AUTEURS"
   ]
  },
  {
   "cell_type": "markdown",
   "metadata": {
    "deletable": false,
    "editable": false,
    "nbgrader": {
     "checksum": "7d7558b8673bd759194a2522295268b1",
     "grade": false,
     "grade_id": "cell-b53e17558a3473dc",
     "locked": true,
     "schema_version": 1,
     "solution": false
    }
   },
   "source": [
    "cette requête affiche plein de doublons. On peut les enlever grâce à l'utilisation du mot clé **DISTINCT**."
   ]
  },
  {
   "cell_type": "code",
   "execution_count": null,
   "metadata": {
    "deletable": false,
    "editable": false,
    "nbgrader": {
     "checksum": "0a93763737fbcf84c078c09afd243603",
     "grade": false,
     "grade_id": "cell-c7956c219d34c151",
     "locked": true,
     "schema_version": 1,
     "solution": false
    }
   },
   "outputs": [],
   "source": [
    "%sql SELECT  DISTINCT langue from AUTEURS"
   ]
  },
  {
   "cell_type": "markdown",
   "metadata": {
    "deletable": false,
    "editable": false,
    "nbgrader": {
     "checksum": "bf952ec72bab34c5eb7a2536ea04a8f7",
     "grade": false,
     "grade_id": "cell-d1548bf7032411ff",
     "locked": true,
     "schema_version": 1,
     "solution": false
    }
   },
   "source": [
    "### Trier les réponses\n",
    "\n",
    "Nous allons lister tous les auteurs par ordre croissant d'année de naissance"
   ]
  },
  {
   "cell_type": "code",
   "execution_count": null,
   "metadata": {
    "deletable": false,
    "editable": false,
    "nbgrader": {
     "checksum": "653a72f064efa97fd09bb3e1940468dd",
     "grade": false,
     "grade_id": "cell-f4175b475dac1c43",
     "locked": true,
     "schema_version": 1,
     "solution": false
    }
   },
   "outputs": [],
   "source": [
    "%sql SELECT * from AUTEURS ORDER BY annee_nai;"
   ]
  },
  {
   "cell_type": "markdown",
   "metadata": {
    "deletable": false,
    "editable": false,
    "nbgrader": {
     "checksum": "f3ee184be4d19a3b09ea157a520d34ba",
     "grade": false,
     "grade_id": "cell-74c9bf64e231ff96",
     "locked": true,
     "schema_version": 1,
     "solution": false
    }
   },
   "source": [
    "et par ordre décroissant, on ajoute **DESC** à la fin de la requête"
   ]
  },
  {
   "cell_type": "code",
   "execution_count": null,
   "metadata": {
    "deletable": false,
    "editable": false,
    "nbgrader": {
     "checksum": "57ef228765f9d19a683a3734ab87013f",
     "grade": false,
     "grade_id": "cell-1e7dd5f66b7a1ed3",
     "locked": true,
     "schema_version": 1,
     "solution": false
    }
   },
   "outputs": [],
   "source": [
    "%sql SELECT * from AUTEURS ORDER BY annee_nai DESC;"
   ]
  },
  {
   "cell_type": "markdown",
   "metadata": {
    "deletable": false,
    "editable": false,
    "nbgrader": {
     "checksum": "bcdfbfc3eabb96620272595e68a55a2e",
     "grade": false,
     "grade_id": "cell-07b85db888f17f62",
     "locked": true,
     "schema_version": 1,
     "solution": false
    }
   },
   "source": [
    "### A vous de jouer\n",
    "\n",
    "1. Donner la liste de tous les titres des livres écrits entre 1920 et 1950.\n",
    "1. Combien y en a t-il ?"
   ]
  },
  {
   "cell_type": "code",
   "execution_count": null,
   "metadata": {},
   "outputs": [],
   "source": [
    "# Utilisez cette cellule en brouillon pour vos requetes "
   ]
  },
  {
   "cell_type": "code",
   "execution_count": null,
   "metadata": {
    "deletable": false,
    "nbgrader": {
     "checksum": "601adcd5d4a96eb225b2cea79166817f",
     "grade": false,
     "grade_id": "cell-e117c5f89147d3fe",
     "locked": false,
     "schema_version": 1,
     "solution": true
    }
   },
   "outputs": [],
   "source": [
    "# Utiliser la syntaxe courte \n",
    "# reponse_i = %sql VOTRE REQUETE pour i=1 ou i=2\n",
    "\n",
    "# YOUR CODE HERE\n",
    "raise NotImplementedError()"
   ]
  },
  {
   "cell_type": "code",
   "execution_count": null,
   "metadata": {
    "deletable": false,
    "editable": false,
    "nbgrader": {
     "checksum": "ce3e50f251412c8b2088f802defdb271",
     "grade": true,
     "grade_id": "cell-2d422f8e139aa26c",
     "locked": true,
     "points": 2,
     "schema_version": 1,
     "solution": false
    }
   },
   "outputs": [],
   "source": [
    "# Vérification des réponses\n",
    "\n",
    "assert reponse_1[3][0] == 'Les Robots'\n",
    "assert reponse_2[0][0] == 6\n"
   ]
  },
  {
   "cell_type": "markdown",
   "metadata": {
    "deletable": false,
    "editable": false,
    "nbgrader": {
     "checksum": "2728eb332bb5103971fc007ccc8b39ee",
     "grade": false,
     "grade_id": "cell-712dc26290bf0903",
     "locked": true,
     "schema_version": 1,
     "solution": false
    }
   },
   "source": [
    "Il est temps de voir comment réunir les différentes tables afin d'obtenir en un seul tableau les informations souhaitées.\n",
    "\n",
    "## Jointure des tables\n",
    "\n",
    "Nous voulons récupérer la liste des titres des livres avec le nom de leur auteur. Il faut pour cela piocher les informations dans deux tables différentes en utilisant l'attribut **id_auteur** comme *clé de jointure*."
   ]
  },
  {
   "cell_type": "code",
   "execution_count": null,
   "metadata": {
    "deletable": false,
    "editable": false,
    "nbgrader": {
     "checksum": "a9c5fe7353e4f095dcbd40501d1d6a52",
     "grade": false,
     "grade_id": "cell-c0f15d5c40bcf990",
     "locked": true,
     "schema_version": 1,
     "solution": false
    }
   },
   "outputs": [],
   "source": [
    "%sql SELECT titre, nom FROM LIVRES JOIN AUTEURS ON LIVRES.id_auteur = AUTEURS.id;"
   ]
  },
  {
   "cell_type": "markdown",
   "metadata": {
    "deletable": false,
    "editable": false,
    "nbgrader": {
     "checksum": "6c54e5fd23bad7188966c8ce6c9f667c",
     "grade": false,
     "grade_id": "cell-44489a14b3ab198f",
     "locked": true,
     "schema_version": 1,
     "solution": false
    }
   },
   "source": [
    "Dans l'exemple ci-dessus, nous avons **JOIN** *LIVRES* à *AUTEURS* en utilisant la clé externe `LIVRES.id_auteur` comme étant la clé primaire de la table *AUTEURS*.\n",
    "\n",
    "### A vous de jouer\n",
    "\n",
    "1. récupérer dans la variable `reponse_1` une liste dont les attributs sont **titre**, **note** et **ann_publi** dans cet ordre.\n",
    "1. récupérer dans la variable `reponse_2` une liste dont les attributs sont **titre**, **prenom**, **nom** et **ann_publi** mais triée par ordre de **note** décroissant.\n",
    "1. récupérer dans la variable `reponse_3` une liste dont les attributs sont **titre**, **prenom**, **nom** et **ann_publi** mais dont la note est au moins 9."
   ]
  },
  {
   "cell_type": "code",
   "execution_count": null,
   "metadata": {
    "deletable": false,
    "nbgrader": {
     "checksum": "04aec0008731f4ea210272ef5e933004",
     "grade": false,
     "grade_id": "cell-4d8c29ecab144a18",
     "locked": false,
     "schema_version": 1,
     "solution": true
    }
   },
   "outputs": [],
   "source": [
    "# Donner les réponses dans les variables reponse_i en utilisant la syntaxe courte\n",
    "# reponse_i = %sql SELECT blablabla\n",
    "\n",
    "# YOUR CODE HERE\n",
    "raise NotImplementedError()"
   ]
  },
  {
   "cell_type": "code",
   "execution_count": null,
   "metadata": {},
   "outputs": [],
   "source": [
    "# Utilisez cette cellule en brouillon pour vos requetes "
   ]
  },
  {
   "cell_type": "code",
   "execution_count": null,
   "metadata": {
    "deletable": false,
    "editable": false,
    "nbgrader": {
     "checksum": "3db595ec702a76521609aae6bb862cfe",
     "grade": true,
     "grade_id": "cell-314e7e36bee00f96",
     "locked": true,
     "points": 3,
     "schema_version": 1,
     "solution": false
    }
   },
   "outputs": [],
   "source": [
    "assert reponse_1[0] == ('1984',10,1949)\n",
    "assert reponse_2[0] == ('1984',\"George\",\"Orwell\",1949)"
   ]
  },
  {
   "cell_type": "markdown",
   "metadata": {
    "deletable": false,
    "editable": false,
    "nbgrader": {
     "checksum": "59939901ea3096d93fa6ca4b3a91e7f9",
     "grade": false,
     "grade_id": "cell-2a70a7dd7df17a5e",
     "locked": true,
     "schema_version": 1,
     "solution": false
    }
   },
   "source": [
    "## Mise a jour, effacement : UPDATE et DELETE\n",
    "\n",
    "Les requêtes **UPDATE** et **DELETE** fonctionnent sur le même modèle que les requêtes **SELECT**.  Attention, on a vite fait d'effacer toutes ses données si on ne configure pas bien sa requête. Une bonne habitude à prendre est de tester d'abord ses critères à l'aide d'un **SELECT**.\n",
    "\n",
    "Observez les exemples ci-dessous :"
   ]
  },
  {
   "cell_type": "code",
   "execution_count": null,
   "metadata": {
    "deletable": false,
    "editable": false,
    "nbgrader": {
     "checksum": "41c02a59c1236ed961fe3270fde91488",
     "grade": false,
     "grade_id": "cell-dbd6087e939bf91c",
     "locked": true,
     "schema_version": 1,
     "solution": false
    }
   },
   "outputs": [],
   "source": [
    "%%sql\n",
    "\n",
    "SELECT id FROM AUTEURS WHERE nom='Verne'"
   ]
  },
  {
   "cell_type": "code",
   "execution_count": null,
   "metadata": {
    "deletable": false,
    "editable": false,
    "nbgrader": {
     "checksum": "1488b7209e2eac5b2cfdb89060ff9719",
     "grade": false,
     "grade_id": "cell-19669bb8e123241a",
     "locked": true,
     "schema_version": 1,
     "solution": false
    }
   },
   "outputs": [],
   "source": [
    "%%sql \n",
    "UPDATE AUTEURS SET nom=\"Ze Djoule\" WHERE id=10 ;\n",
    "\n",
    "SELECT * FROM AUTEURS ;"
   ]
  },
  {
   "cell_type": "code",
   "execution_count": null,
   "metadata": {
    "deletable": false,
    "editable": false,
    "nbgrader": {
     "checksum": "1b6ec391d42dfb7b6d7e3f63763c6da8",
     "grade": false,
     "grade_id": "cell-57e1cb94092ea276",
     "locked": true,
     "schema_version": 1,
     "solution": false
    }
   },
   "outputs": [],
   "source": [
    "%%sql \n",
    "\n",
    "DELETE  FROM AUTEURS  WHERE id=10;\n",
    "\n",
    "SELECT * FROM AUTEURS;"
   ]
  },
  {
   "cell_type": "markdown",
   "metadata": {
    "deletable": false,
    "editable": false,
    "nbgrader": {
     "checksum": "aa2c2aaa7b899c7734511e101d0ee30d",
     "grade": false,
     "grade_id": "cell-bff6700abe4f894d",
     "locked": true,
     "schema_version": 1,
     "solution": false
    }
   },
   "source": [
    "### A vous de jouer\n",
    "\n",
    "1. Réinsérez l'auteur Jules Verne !\n",
    "1. Modifiez les notes afin de mettre 10 à chaque note égale ou inférieure à 8\n",
    "1. Supprimez tous les livres écrits au 19e sciecle"
   ]
  },
  {
   "cell_type": "code",
   "execution_count": null,
   "metadata": {
    "deletable": false,
    "nbgrader": {
     "checksum": "d9ca22f0ab41eba6a7cfe8b0afda15a5",
     "grade": false,
     "grade_id": "cell-5e47daa2baa08ae7",
     "locked": false,
     "schema_version": 1,
     "solution": true
    }
   },
   "outputs": [],
   "source": [
    "# YOUR CODE HERE\n",
    "raise NotImplementedError()"
   ]
  },
  {
   "cell_type": "code",
   "execution_count": null,
   "metadata": {
    "deletable": false,
    "editable": false,
    "nbgrader": {
     "checksum": "e6c5fc014e40f458edb4fd60051f9026",
     "grade": true,
     "grade_id": "cell-38118410711615e1",
     "locked": true,
     "points": 3,
     "schema_version": 1,
     "solution": false
    }
   },
   "outputs": [],
   "source": [
    "# Vérification de la présence de Jules\n",
    "res = %sql SELECT COUNT(*) FROM AUTEURS WHERE nom=\"Verne\"\n",
    "assert res[0][0] == 1\n",
    "# Vérification de l'absence de notes <=8\n",
    "res = %sql SELECT COUNT(*) FROM NOTES WHERE note <= 8\n",
    "assert res[0][0] == 0\n",
    "# Vérification de l'absence de livres du 19e\n",
    "res = %sql SELECT COUNT(*) FROM LIVRES WHERE ann_publi <= 1900\n",
    "assert res[0][0] == 0"
   ]
  },
  {
   "cell_type": "markdown",
   "metadata": {
    "deletable": false,
    "editable": false,
    "nbgrader": {
     "checksum": "c9c57320dfdaa14d5470404c6e5a1bfe",
     "grade": false,
     "grade_id": "cell-d0a5acdf71d8d1b9",
     "locked": true,
     "schema_version": 1,
     "solution": false
    }
   },
   "source": [
    "### Attention à la cohérence des données\n",
    "\n",
    "Dans une base de données relationnelle il faut être vigilant lors de la suppression d'enregistrements : en effet la suppression d'en enregistement entraîne la suppression de sa clé primaire qui peut être utilisée en tant que clé externe dans une autre table. Cela entraîne la corruption des données.\n",
    "\n",
    "Il existe en SQL des moyens pour se prémunir de ce type de problèmes mais cela dépasse le cadre de ce cours."
   ]
  },
  {
   "cell_type": "code",
   "execution_count": null,
   "metadata": {},
   "outputs": [],
   "source": []
  }
 ],
 "metadata": {
  "kernelspec": {
   "display_name": "Python 3",
   "language": "python",
   "name": "python3"
  },
  "language_info": {
   "codemirror_mode": {
    "name": "ipython",
    "version": 3
   },
   "file_extension": ".py",
   "mimetype": "text/x-python",
   "name": "python",
   "nbconvert_exporter": "python",
   "pygments_lexer": "ipython3",
   "version": "3.8.2"
  }
 },
 "nbformat": 4,
 "nbformat_minor": 2
}
